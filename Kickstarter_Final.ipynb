{
  "nbformat": 4,
  "nbformat_minor": 0,
  "metadata": {
    "colab": {
      "name": "Kickstarter Final.ipynb",
      "version": "0.3.2",
      "provenance": [],
      "collapsed_sections": [],
      "include_colab_link": true
    },
    "kernelspec": {
      "display_name": "Python 3",
      "language": "python",
      "name": "python3"
    }
  },
  "cells": [
    {
      "cell_type": "markdown",
      "metadata": {
        "id": "view-in-github",
        "colab_type": "text"
      },
      "source": [
        "<a href=\"https://colab.research.google.com/github/jb2814/databootcampproject/blob/master/Kickstarter_Final.ipynb\" target=\"_parent\"><img src=\"https://colab.research.google.com/assets/colab-badge.svg\" alt=\"Open In Colab\"/></a>"
      ]
    },
    {
      "metadata": {
        "colab_type": "text",
        "id": "5pOpEBC1EyZd"
      },
      "cell_type": "markdown",
      "source": [
        "# Data Bootcamp Final Project - Kickstarter Data Exploration\n",
        "Sarah Hansen, Yasemin Esmen, Jassica Bouvier \n",
        "\n",
        "\n",
        "---\n",
        "\n",
        "\n",
        "Fall 2018 MBA Section"
      ]
    },
    {
      "metadata": {
        "colab_type": "text",
        "id": "q1YM110YF9mt"
      },
      "cell_type": "markdown",
      "source": [
        "## Background & Objectives"
      ]
    },
    {
      "metadata": {
        "colab_type": "text",
        "id": "Uv4RWmgsIaTT"
      },
      "cell_type": "markdown",
      "source": [
        "Kickstarter is a global crowdfunding platform founded in 2009. The company's stated mission is to \"help bring creative projects to life\".  To date, Kickstarter has reportedly received more than $4 billion in pledges from 15.5 million backers to fund 257,000 creative projects, such as films, music, stage shows, comics, journalism, video games, technology and food-related projects.The purpose of this analysis is quite simply to learn more about Kickstarter. We will explore a variety of questions.\n",
        "\n",
        "The dataset we are using was posted by Mickaël Mouillé on Kaggle [here](https://www.kaggle.com/kemical/kickstarter-projects). For this analysis, we are using data contained in the file ks-projects-201801."
      ]
    },
    {
      "metadata": {
        "id": "kUHcqyHXjcnt",
        "colab_type": "text"
      },
      "cell_type": "markdown",
      "source": [
        "For better viewing, please refer to our github repository: \n",
        "    https://github.com/jb2814/databootcampproject/blob/master/Kickstarter.ipynb"
      ]
    },
    {
      "metadata": {
        "colab_type": "text",
        "id": "uUEg_g7HBA2m"
      },
      "cell_type": "markdown",
      "source": [
        "## Importing Packages"
      ]
    },
    {
      "metadata": {
        "colab_type": "code",
        "id": "tLbtdPgmBk-m",
        "outputId": "b6a79302-bd08-40bd-f5ec-871e8892844d",
        "colab": {
          "base_uri": "https://localhost:8080/",
          "height": 92
        }
      },
      "cell_type": "code",
      "source": [
        "import pandas as pd                  \n",
        "import matplotlib.pyplot as plt       \n",
        "import matplotlib as mpl\n",
        "import numpy as np\n",
        "import seaborn as sns\n",
        "import statsmodels.formula.api as smf\n",
        "import statsmodels.api as sm\n",
        "\n",
        "\n",
        "%matplotlib inline\n",
        "\n",
        "import datetime as dt\n",
        "print(dt.date.today())"
      ],
      "execution_count": 1,
      "outputs": [
        {
          "output_type": "stream",
          "text": [
            "/usr/local/lib/python3.6/dist-packages/statsmodels/compat/pandas.py:56: FutureWarning: The pandas.core.datetools module is deprecated and will be removed in a future version. Please use the pandas.tseries module instead.\n",
            "  from pandas.core import datetools\n"
          ],
          "name": "stderr"
        },
        {
          "output_type": "stream",
          "text": [
            "2018-12-21\n"
          ],
          "name": "stdout"
        }
      ]
    },
    {
      "metadata": {
        "colab_type": "text",
        "id": "kG24FpNtBlsV"
      },
      "cell_type": "markdown",
      "source": [
        "## Importing the Data"
      ]
    },
    {
      "metadata": {
        "colab_type": "text",
        "id": "Wyom-EQpByOV"
      },
      "cell_type": "markdown",
      "source": [
        "We will access our data from Google Drive and use [Colaboratory](https://github.com/jupyter/colaboratory) to do our analysis.  Colaboratory is a third party application which creates shared Jupyter notebooks that can be accessed through Google Drive. The below code imports libraries that allow the Google Cloud SDK to access the Google Drive of the currently logged in user. As a result, we can access our files from Python code running in Colaboratory.  The code for this process was sourced from [here](https://mikulskibartosz.name/how-to-load-data-from-google-drive-to-pandas-running-in-google-colaboratory-a7f6a033c997).\n",
        "\n"
      ]
    },
    {
      "metadata": {
        "colab_type": "code",
        "id": "l-BSYtQmBpjm",
        "colab": {}
      },
      "cell_type": "code",
      "source": [
        "!pip install -U -q PyDrive\n",
        "from pydrive.auth import GoogleAuth\n",
        "from pydrive.drive import GoogleDrive\n",
        "from google.colab import auth\n",
        "from oauth2client.client import GoogleCredentials\n",
        "import os\n",
        "auth.authenticate_user()\n",
        "gauth = GoogleAuth()\n",
        "gauth.credentials = GoogleCredentials.get_application_default()\n",
        "drive = GoogleDrive(gauth)"
      ],
      "execution_count": 0,
      "outputs": []
    },
    {
      "metadata": {
        "colab_type": "text",
        "id": "Z68wT5I2B35d"
      },
      "cell_type": "markdown",
      "source": [
        "In order to access the data, we first need to find the Google file ID of the csv file saved in Drive. We can do so using the below code."
      ]
    },
    {
      "metadata": {
        "colab_type": "code",
        "id": "JvOEPRNQBrlI",
        "outputId": "7a7d8026-1b41-4589-a880-b6d023783232",
        "colab": {
          "base_uri": "https://localhost:8080/",
          "height": 35
        }
      },
      "cell_type": "code",
      "source": [
        "listed = drive.ListFile({'q': \"title contains 'ks-projects-201801.csv' and '1qjkEWVNEbz_Y8BGImUIMKuAnfALIZMdz' in parents\"}).GetList()\n",
        "for file in listed:\n",
        "  print('title {}, id {}'.format(file['title'], file['id']))"
      ],
      "execution_count": 3,
      "outputs": [
        {
          "output_type": "stream",
          "text": [
            "title ks-projects-201801.csv, id 14pAbAz2WPJL6EL6tTCUupB2HmHSDHppj\n"
          ],
          "name": "stdout"
        }
      ]
    },
    {
      "metadata": {
        "colab_type": "text",
        "id": "Q23Mq_WOCM52"
      },
      "cell_type": "markdown",
      "source": [
        "We then need to create a directory for the file to be stored. "
      ]
    },
    {
      "metadata": {
        "colab_type": "code",
        "id": "-Z4lK2NxCCYW",
        "colab": {}
      },
      "cell_type": "code",
      "source": [
        "download_path = os.path.expanduser('~/data')\n",
        "try:\n",
        "  os.makedirs(download_path)\n",
        "except FileExistsError:\n",
        "  pass"
      ],
      "execution_count": 0,
      "outputs": []
    },
    {
      "metadata": {
        "colab_type": "text",
        "id": "xXJZeREBCRyN"
      },
      "cell_type": "markdown",
      "source": [
        "We can access the file from the directory and read it into the notebook using pandas."
      ]
    },
    {
      "metadata": {
        "colab_type": "code",
        "id": "e4lnfb2VCP91",
        "colab": {}
      },
      "cell_type": "code",
      "source": [
        "output_file = os.path.join(download_path, 'ks-projects-201801.csv')\n",
        "temp_file = drive.CreateFile({'id': '14pAbAz2WPJL6EL6tTCUupB2HmHSDHppj'})\n",
        "temp_file.GetContentFile(output_file)"
      ],
      "execution_count": 0,
      "outputs": []
    },
    {
      "metadata": {
        "colab_type": "code",
        "id": "YAB_Yd7TDQ51",
        "colab": {}
      },
      "cell_type": "code",
      "source": [
        "data = pd.read_csv(output_file,\n",
        "                  encoding='latin-1',error_bad_lines = False)"
      ],
      "execution_count": 0,
      "outputs": []
    },
    {
      "metadata": {
        "colab_type": "code",
        "id": "A65WEFndDaAU",
        "outputId": "9173bd20-93e4-4aaf-8931-87f426b6c83f",
        "colab": {
          "base_uri": "https://localhost:8080/",
          "height": 477
        }
      },
      "cell_type": "code",
      "source": [
        "data.head()"
      ],
      "execution_count": 7,
      "outputs": [
        {
          "output_type": "execute_result",
          "data": {
            "text/html": [
              "<div>\n",
              "<style scoped>\n",
              "    .dataframe tbody tr th:only-of-type {\n",
              "        vertical-align: middle;\n",
              "    }\n",
              "\n",
              "    .dataframe tbody tr th {\n",
              "        vertical-align: top;\n",
              "    }\n",
              "\n",
              "    .dataframe thead th {\n",
              "        text-align: right;\n",
              "    }\n",
              "</style>\n",
              "<table border=\"1\" class=\"dataframe\">\n",
              "  <thead>\n",
              "    <tr style=\"text-align: right;\">\n",
              "      <th></th>\n",
              "      <th>ID</th>\n",
              "      <th>name</th>\n",
              "      <th>category</th>\n",
              "      <th>main_category</th>\n",
              "      <th>currency</th>\n",
              "      <th>deadline</th>\n",
              "      <th>goal</th>\n",
              "      <th>launched</th>\n",
              "      <th>pledged</th>\n",
              "      <th>state</th>\n",
              "      <th>backers</th>\n",
              "      <th>country</th>\n",
              "      <th>usd pledged</th>\n",
              "      <th>usd_pledged_real</th>\n",
              "      <th>usd_goal_real</th>\n",
              "    </tr>\n",
              "  </thead>\n",
              "  <tbody>\n",
              "    <tr>\n",
              "      <th>0</th>\n",
              "      <td>1000002330</td>\n",
              "      <td>The Songs of Adelaide &amp; Abullah</td>\n",
              "      <td>Poetry</td>\n",
              "      <td>Publishing</td>\n",
              "      <td>GBP</td>\n",
              "      <td>2015-10-09</td>\n",
              "      <td>1000.0</td>\n",
              "      <td>2015-08-11 12:12:28</td>\n",
              "      <td>0.0</td>\n",
              "      <td>failed</td>\n",
              "      <td>0</td>\n",
              "      <td>GB</td>\n",
              "      <td>0.0</td>\n",
              "      <td>0.0</td>\n",
              "      <td>1533.95</td>\n",
              "    </tr>\n",
              "    <tr>\n",
              "      <th>1</th>\n",
              "      <td>1000003930</td>\n",
              "      <td>Greeting From Earth: ZGAC Arts Capsule For ET</td>\n",
              "      <td>Narrative Film</td>\n",
              "      <td>Film &amp; Video</td>\n",
              "      <td>USD</td>\n",
              "      <td>2017-11-01</td>\n",
              "      <td>30000.0</td>\n",
              "      <td>2017-09-02 04:43:57</td>\n",
              "      <td>2421.0</td>\n",
              "      <td>failed</td>\n",
              "      <td>15</td>\n",
              "      <td>US</td>\n",
              "      <td>100.0</td>\n",
              "      <td>2421.0</td>\n",
              "      <td>30000.00</td>\n",
              "    </tr>\n",
              "    <tr>\n",
              "      <th>2</th>\n",
              "      <td>1000004038</td>\n",
              "      <td>Where is Hank?</td>\n",
              "      <td>Narrative Film</td>\n",
              "      <td>Film &amp; Video</td>\n",
              "      <td>USD</td>\n",
              "      <td>2013-02-26</td>\n",
              "      <td>45000.0</td>\n",
              "      <td>2013-01-12 00:20:50</td>\n",
              "      <td>220.0</td>\n",
              "      <td>failed</td>\n",
              "      <td>3</td>\n",
              "      <td>US</td>\n",
              "      <td>220.0</td>\n",
              "      <td>220.0</td>\n",
              "      <td>45000.00</td>\n",
              "    </tr>\n",
              "    <tr>\n",
              "      <th>3</th>\n",
              "      <td>1000007540</td>\n",
              "      <td>ToshiCapital Rekordz Needs Help to Complete Album</td>\n",
              "      <td>Music</td>\n",
              "      <td>Music</td>\n",
              "      <td>USD</td>\n",
              "      <td>2012-04-16</td>\n",
              "      <td>5000.0</td>\n",
              "      <td>2012-03-17 03:24:11</td>\n",
              "      <td>1.0</td>\n",
              "      <td>failed</td>\n",
              "      <td>1</td>\n",
              "      <td>US</td>\n",
              "      <td>1.0</td>\n",
              "      <td>1.0</td>\n",
              "      <td>5000.00</td>\n",
              "    </tr>\n",
              "    <tr>\n",
              "      <th>4</th>\n",
              "      <td>1000011046</td>\n",
              "      <td>Community Film Project: The Art of Neighborhoo...</td>\n",
              "      <td>Film &amp; Video</td>\n",
              "      <td>Film &amp; Video</td>\n",
              "      <td>USD</td>\n",
              "      <td>2015-08-29</td>\n",
              "      <td>19500.0</td>\n",
              "      <td>2015-07-04 08:35:03</td>\n",
              "      <td>1283.0</td>\n",
              "      <td>canceled</td>\n",
              "      <td>14</td>\n",
              "      <td>US</td>\n",
              "      <td>1283.0</td>\n",
              "      <td>1283.0</td>\n",
              "      <td>19500.00</td>\n",
              "    </tr>\n",
              "  </tbody>\n",
              "</table>\n",
              "</div>"
            ],
            "text/plain": [
              "           ID                                               name  \\\n",
              "0  1000002330                    The Songs of Adelaide & Abullah   \n",
              "1  1000003930      Greeting From Earth: ZGAC Arts Capsule For ET   \n",
              "2  1000004038                                     Where is Hank?   \n",
              "3  1000007540  ToshiCapital Rekordz Needs Help to Complete Album   \n",
              "4  1000011046  Community Film Project: The Art of Neighborhoo...   \n",
              "\n",
              "         category main_category currency    deadline     goal  \\\n",
              "0          Poetry    Publishing      GBP  2015-10-09   1000.0   \n",
              "1  Narrative Film  Film & Video      USD  2017-11-01  30000.0   \n",
              "2  Narrative Film  Film & Video      USD  2013-02-26  45000.0   \n",
              "3           Music         Music      USD  2012-04-16   5000.0   \n",
              "4    Film & Video  Film & Video      USD  2015-08-29  19500.0   \n",
              "\n",
              "              launched  pledged     state  backers country  usd pledged  \\\n",
              "0  2015-08-11 12:12:28      0.0    failed        0      GB          0.0   \n",
              "1  2017-09-02 04:43:57   2421.0    failed       15      US        100.0   \n",
              "2  2013-01-12 00:20:50    220.0    failed        3      US        220.0   \n",
              "3  2012-03-17 03:24:11      1.0    failed        1      US          1.0   \n",
              "4  2015-07-04 08:35:03   1283.0  canceled       14      US       1283.0   \n",
              "\n",
              "   usd_pledged_real  usd_goal_real  \n",
              "0               0.0        1533.95  \n",
              "1            2421.0       30000.00  \n",
              "2             220.0       45000.00  \n",
              "3               1.0        5000.00  \n",
              "4            1283.0       19500.00  "
            ]
          },
          "metadata": {
            "tags": []
          },
          "execution_count": 7
        }
      ]
    },
    {
      "metadata": {
        "colab_type": "text",
        "id": "ihSRWWZLLYwm"
      },
      "cell_type": "markdown",
      "source": [
        "## Exploring the Data "
      ]
    },
    {
      "metadata": {
        "colab_type": "code",
        "id": "SHtV_KH_DbPF",
        "outputId": "54ef1b40-e9c9-4738-c6b2-fd22d03a6ea5",
        "colab": {
          "base_uri": "https://localhost:8080/",
          "height": 35
        }
      },
      "cell_type": "code",
      "source": [
        "data.shape"
      ],
      "execution_count": 8,
      "outputs": [
        {
          "output_type": "execute_result",
          "data": {
            "text/plain": [
              "(378661, 15)"
            ]
          },
          "metadata": {
            "tags": []
          },
          "execution_count": 8
        }
      ]
    },
    {
      "metadata": {
        "colab_type": "text",
        "id": "MnbSvkmZLgrU"
      },
      "cell_type": "markdown",
      "source": [
        "The dataset includes information on over 378,000 projects. The data is described as follows:\n",
        "\n",
        "* **ID**\t= internal id\t\n",
        "* **name** = \tname of the project\t\n",
        "* **category** = sub category\n",
        "* **main_category**\t= main category \n",
        "* **currency**\t= currency defined by project owner\t\n",
        "* **deadline**\t= deadline\t\n",
        "* **goal**\t= fundraising goal\t\n",
        "* **launched**\t= launched time\t\n",
        "* **pledged**\t= the pledged amount\t\n",
        "* **state**\t= state of the project (successful, failed, etc.)\n",
        "* **backers**\t= number of backers\n",
        "* **country**\t= country\t\n",
        "* **usd_pledged**\t= pledged amount in USD\t\n",
        "* **usd_pledged real**\t= pledged amount in USD\n",
        "* **usd_ goal_real**\t= pledged goal in USD"
      ]
    },
    {
      "metadata": {
        "colab_type": "code",
        "id": "hlXehQWDLdJT",
        "outputId": "714d31b4-f754-4179-e55e-1cdd44a5eeaf",
        "colab": {
          "base_uri": "https://localhost:8080/",
          "height": 381
        }
      },
      "cell_type": "code",
      "source": [
        "data.info()"
      ],
      "execution_count": 9,
      "outputs": [
        {
          "output_type": "stream",
          "text": [
            "<class 'pandas.core.frame.DataFrame'>\n",
            "RangeIndex: 378661 entries, 0 to 378660\n",
            "Data columns (total 15 columns):\n",
            "ID                  378661 non-null int64\n",
            "name                378657 non-null object\n",
            "category            378661 non-null object\n",
            "main_category       378661 non-null object\n",
            "currency            378661 non-null object\n",
            "deadline            378661 non-null object\n",
            "goal                378661 non-null float64\n",
            "launched            378661 non-null object\n",
            "pledged             378661 non-null float64\n",
            "state               378661 non-null object\n",
            "backers             378661 non-null int64\n",
            "country             378661 non-null object\n",
            "usd pledged         374864 non-null float64\n",
            "usd_pledged_real    378661 non-null float64\n",
            "usd_goal_real       378661 non-null float64\n",
            "dtypes: float64(5), int64(2), object(8)\n",
            "memory usage: 43.3+ MB\n"
          ],
          "name": "stdout"
        }
      ]
    },
    {
      "metadata": {
        "colab_type": "text",
        "id": "c4gjCB3ldXHw"
      },
      "cell_type": "markdown",
      "source": [
        "What's the difference between **'usd pledged'** and **'usd_pledged_real'**? According to the glossary, **'usd-pledged'** is the US dollar conversion amount provided by Kickstarter. **'usd_pledged_real'** is the US dollar conversion amount calculated using fixer.io, a foreign currency conversion API.  Because **'usd pledged**' has almost 4,000 null values, we will use **'usd_pledged_real'** in this analysis. "
      ]
    },
    {
      "metadata": {
        "colab_type": "code",
        "id": "_-iQ7U7VTYRC",
        "outputId": "ccff4411-6883-4fe4-e240-c1b73b2d1a34",
        "colab": {
          "base_uri": "https://localhost:8080/",
          "height": 308
        }
      },
      "cell_type": "code",
      "source": [
        "data.isnull().sum()"
      ],
      "execution_count": 10,
      "outputs": [
        {
          "output_type": "execute_result",
          "data": {
            "text/plain": [
              "ID                     0\n",
              "name                   4\n",
              "category               0\n",
              "main_category          0\n",
              "currency               0\n",
              "deadline               0\n",
              "goal                   0\n",
              "launched               0\n",
              "pledged                0\n",
              "state                  0\n",
              "backers                0\n",
              "country                0\n",
              "usd pledged         3797\n",
              "usd_pledged_real       0\n",
              "usd_goal_real          0\n",
              "dtype: int64"
            ]
          },
          "metadata": {
            "tags": []
          },
          "execution_count": 10
        }
      ]
    },
    {
      "metadata": {
        "colab_type": "text",
        "id": "GunO9N9dhk5P"
      },
      "cell_type": "markdown",
      "source": [
        "We therefore will drop **'usd-pledged'** from the dataframe and rename the columns containing the actual USD data to more clearly identify them."
      ]
    },
    {
      "metadata": {
        "colab_type": "code",
        "id": "fViKyFbcfe0u",
        "colab": {}
      },
      "cell_type": "code",
      "source": [
        "data = data.drop(['usd pledged'], axis = 1)"
      ],
      "execution_count": 0,
      "outputs": []
    },
    {
      "metadata": {
        "colab_type": "code",
        "id": "7e9flMy8i1Kv",
        "colab": {}
      },
      "cell_type": "code",
      "source": [
        "data = data.rename(columns = {'usd_pledged_real':'usd_pledged_actual','usd_goal_real':'usd_goal'})"
      ],
      "execution_count": 0,
      "outputs": []
    },
    {
      "metadata": {
        "colab_type": "text",
        "id": "XIyobfQrjt8f"
      },
      "cell_type": "markdown",
      "source": [
        "For every project, we may also want to know the ratio of the actual pledged amount to the goal amount. Therefore, we will create a new column called **'usd_pledged_to_goal'**."
      ]
    },
    {
      "metadata": {
        "colab_type": "code",
        "id": "TN0EA9r4mIZu",
        "colab": {}
      },
      "cell_type": "code",
      "source": [
        "data['usd_pledged_to_goal'] = data['usd_pledged_actual']/data['usd_goal']"
      ],
      "execution_count": 0,
      "outputs": []
    },
    {
      "metadata": {
        "colab_type": "text",
        "id": "ImLfv5Cbu-AW"
      },
      "cell_type": "markdown",
      "source": [
        "In order to understand the scale of projects launched on Kickstarter over time, we also want to run analysis on 'launched' date. In order to do so, we broke up the date into month and year and added these columns to the dataframe."
      ]
    },
    {
      "metadata": {
        "colab_type": "code",
        "id": "Hk8CkZ6dmwww",
        "colab": {}
      },
      "cell_type": "code",
      "source": [
        "data['launched'] = pd.to_datetime(data['launched'])\n",
        "data['launch_month_year'] = data['launched'].dt.to_period(\"M\")\n",
        "data['launch_year'] = data['launched'].dt.to_period(\"A\")\n",
        "data['launch_month'] = data['launched'].dt.month\n"
      ],
      "execution_count": 0,
      "outputs": []
    },
    {
      "metadata": {
        "colab_type": "text",
        "id": "fq5UkBpsvoPm"
      },
      "cell_type": "markdown",
      "source": [
        "We then added another set of colums to analyze success rates. In **'success'**, we placed a 1 if state = success, otherwise we placed a 0. In '**not_success'**, we placed a 1 if state != success, otherwise we placed a 0."
      ]
    },
    {
      "metadata": {
        "colab_type": "code",
        "id": "LeztfIudqm4m",
        "colab": {}
      },
      "cell_type": "code",
      "source": [
        "data['success'] = np.where(data['state']=='successful', 1, 0)"
      ],
      "execution_count": 0,
      "outputs": []
    },
    {
      "metadata": {
        "colab_type": "code",
        "id": "bdaKTMgjusI_",
        "colab": {}
      },
      "cell_type": "code",
      "source": [
        "data['not_success'] = np.where(data['state']!='successful', 1, 0)"
      ],
      "execution_count": 0,
      "outputs": []
    },
    {
      "metadata": {
        "colab_type": "text",
        "id": "RRaj8ggZHnV_"
      },
      "cell_type": "markdown",
      "source": [
        "We also added a** 'count'** column to make counting easier in the analysis."
      ]
    },
    {
      "metadata": {
        "colab_type": "code",
        "id": "sjS8cQUSHg5P",
        "colab": {}
      },
      "cell_type": "code",
      "source": [
        "data['count'] = 1"
      ],
      "execution_count": 0,
      "outputs": []
    },
    {
      "metadata": {
        "colab_type": "code",
        "id": "QkNFiUUXDTd4",
        "outputId": "c9f0dc99-8e5a-4309-90fc-49ed0ae7f891",
        "colab": {
          "base_uri": "https://localhost:8080/",
          "height": 489
        }
      },
      "cell_type": "code",
      "source": [
        "data.head()"
      ],
      "execution_count": 18,
      "outputs": [
        {
          "output_type": "execute_result",
          "data": {
            "text/html": [
              "<div>\n",
              "<style scoped>\n",
              "    .dataframe tbody tr th:only-of-type {\n",
              "        vertical-align: middle;\n",
              "    }\n",
              "\n",
              "    .dataframe tbody tr th {\n",
              "        vertical-align: top;\n",
              "    }\n",
              "\n",
              "    .dataframe thead th {\n",
              "        text-align: right;\n",
              "    }\n",
              "</style>\n",
              "<table border=\"1\" class=\"dataframe\">\n",
              "  <thead>\n",
              "    <tr style=\"text-align: right;\">\n",
              "      <th></th>\n",
              "      <th>ID</th>\n",
              "      <th>name</th>\n",
              "      <th>category</th>\n",
              "      <th>main_category</th>\n",
              "      <th>currency</th>\n",
              "      <th>deadline</th>\n",
              "      <th>goal</th>\n",
              "      <th>launched</th>\n",
              "      <th>pledged</th>\n",
              "      <th>state</th>\n",
              "      <th>...</th>\n",
              "      <th>country</th>\n",
              "      <th>usd_pledged_actual</th>\n",
              "      <th>usd_goal</th>\n",
              "      <th>usd_pledged_to_goal</th>\n",
              "      <th>launch_month_year</th>\n",
              "      <th>launch_year</th>\n",
              "      <th>launch_month</th>\n",
              "      <th>success</th>\n",
              "      <th>not_success</th>\n",
              "      <th>count</th>\n",
              "    </tr>\n",
              "  </thead>\n",
              "  <tbody>\n",
              "    <tr>\n",
              "      <th>0</th>\n",
              "      <td>1000002330</td>\n",
              "      <td>The Songs of Adelaide &amp; Abullah</td>\n",
              "      <td>Poetry</td>\n",
              "      <td>Publishing</td>\n",
              "      <td>GBP</td>\n",
              "      <td>2015-10-09</td>\n",
              "      <td>1000.0</td>\n",
              "      <td>2015-08-11 12:12:28</td>\n",
              "      <td>0.0</td>\n",
              "      <td>failed</td>\n",
              "      <td>...</td>\n",
              "      <td>GB</td>\n",
              "      <td>0.0</td>\n",
              "      <td>1533.95</td>\n",
              "      <td>0.000000</td>\n",
              "      <td>2015-08</td>\n",
              "      <td>2015</td>\n",
              "      <td>8</td>\n",
              "      <td>0</td>\n",
              "      <td>1</td>\n",
              "      <td>1</td>\n",
              "    </tr>\n",
              "    <tr>\n",
              "      <th>1</th>\n",
              "      <td>1000003930</td>\n",
              "      <td>Greeting From Earth: ZGAC Arts Capsule For ET</td>\n",
              "      <td>Narrative Film</td>\n",
              "      <td>Film &amp; Video</td>\n",
              "      <td>USD</td>\n",
              "      <td>2017-11-01</td>\n",
              "      <td>30000.0</td>\n",
              "      <td>2017-09-02 04:43:57</td>\n",
              "      <td>2421.0</td>\n",
              "      <td>failed</td>\n",
              "      <td>...</td>\n",
              "      <td>US</td>\n",
              "      <td>2421.0</td>\n",
              "      <td>30000.00</td>\n",
              "      <td>0.080700</td>\n",
              "      <td>2017-09</td>\n",
              "      <td>2017</td>\n",
              "      <td>9</td>\n",
              "      <td>0</td>\n",
              "      <td>1</td>\n",
              "      <td>1</td>\n",
              "    </tr>\n",
              "    <tr>\n",
              "      <th>2</th>\n",
              "      <td>1000004038</td>\n",
              "      <td>Where is Hank?</td>\n",
              "      <td>Narrative Film</td>\n",
              "      <td>Film &amp; Video</td>\n",
              "      <td>USD</td>\n",
              "      <td>2013-02-26</td>\n",
              "      <td>45000.0</td>\n",
              "      <td>2013-01-12 00:20:50</td>\n",
              "      <td>220.0</td>\n",
              "      <td>failed</td>\n",
              "      <td>...</td>\n",
              "      <td>US</td>\n",
              "      <td>220.0</td>\n",
              "      <td>45000.00</td>\n",
              "      <td>0.004889</td>\n",
              "      <td>2013-01</td>\n",
              "      <td>2013</td>\n",
              "      <td>1</td>\n",
              "      <td>0</td>\n",
              "      <td>1</td>\n",
              "      <td>1</td>\n",
              "    </tr>\n",
              "    <tr>\n",
              "      <th>3</th>\n",
              "      <td>1000007540</td>\n",
              "      <td>ToshiCapital Rekordz Needs Help to Complete Album</td>\n",
              "      <td>Music</td>\n",
              "      <td>Music</td>\n",
              "      <td>USD</td>\n",
              "      <td>2012-04-16</td>\n",
              "      <td>5000.0</td>\n",
              "      <td>2012-03-17 03:24:11</td>\n",
              "      <td>1.0</td>\n",
              "      <td>failed</td>\n",
              "      <td>...</td>\n",
              "      <td>US</td>\n",
              "      <td>1.0</td>\n",
              "      <td>5000.00</td>\n",
              "      <td>0.000200</td>\n",
              "      <td>2012-03</td>\n",
              "      <td>2012</td>\n",
              "      <td>3</td>\n",
              "      <td>0</td>\n",
              "      <td>1</td>\n",
              "      <td>1</td>\n",
              "    </tr>\n",
              "    <tr>\n",
              "      <th>4</th>\n",
              "      <td>1000011046</td>\n",
              "      <td>Community Film Project: The Art of Neighborhoo...</td>\n",
              "      <td>Film &amp; Video</td>\n",
              "      <td>Film &amp; Video</td>\n",
              "      <td>USD</td>\n",
              "      <td>2015-08-29</td>\n",
              "      <td>19500.0</td>\n",
              "      <td>2015-07-04 08:35:03</td>\n",
              "      <td>1283.0</td>\n",
              "      <td>canceled</td>\n",
              "      <td>...</td>\n",
              "      <td>US</td>\n",
              "      <td>1283.0</td>\n",
              "      <td>19500.00</td>\n",
              "      <td>0.065795</td>\n",
              "      <td>2015-07</td>\n",
              "      <td>2015</td>\n",
              "      <td>7</td>\n",
              "      <td>0</td>\n",
              "      <td>1</td>\n",
              "      <td>1</td>\n",
              "    </tr>\n",
              "  </tbody>\n",
              "</table>\n",
              "<p>5 rows × 21 columns</p>\n",
              "</div>"
            ],
            "text/plain": [
              "           ID                                               name  \\\n",
              "0  1000002330                    The Songs of Adelaide & Abullah   \n",
              "1  1000003930      Greeting From Earth: ZGAC Arts Capsule For ET   \n",
              "2  1000004038                                     Where is Hank?   \n",
              "3  1000007540  ToshiCapital Rekordz Needs Help to Complete Album   \n",
              "4  1000011046  Community Film Project: The Art of Neighborhoo...   \n",
              "\n",
              "         category main_category currency    deadline     goal  \\\n",
              "0          Poetry    Publishing      GBP  2015-10-09   1000.0   \n",
              "1  Narrative Film  Film & Video      USD  2017-11-01  30000.0   \n",
              "2  Narrative Film  Film & Video      USD  2013-02-26  45000.0   \n",
              "3           Music         Music      USD  2012-04-16   5000.0   \n",
              "4    Film & Video  Film & Video      USD  2015-08-29  19500.0   \n",
              "\n",
              "             launched  pledged     state  ...    country usd_pledged_actual  \\\n",
              "0 2015-08-11 12:12:28      0.0    failed  ...         GB                0.0   \n",
              "1 2017-09-02 04:43:57   2421.0    failed  ...         US             2421.0   \n",
              "2 2013-01-12 00:20:50    220.0    failed  ...         US              220.0   \n",
              "3 2012-03-17 03:24:11      1.0    failed  ...         US                1.0   \n",
              "4 2015-07-04 08:35:03   1283.0  canceled  ...         US             1283.0   \n",
              "\n",
              "   usd_goal  usd_pledged_to_goal  launch_month_year launch_year launch_month  \\\n",
              "0   1533.95             0.000000            2015-08        2015            8   \n",
              "1  30000.00             0.080700            2017-09        2017            9   \n",
              "2  45000.00             0.004889            2013-01        2013            1   \n",
              "3   5000.00             0.000200            2012-03        2012            3   \n",
              "4  19500.00             0.065795            2015-07        2015            7   \n",
              "\n",
              "   success  not_success  count  \n",
              "0        0            1      1  \n",
              "1        0            1      1  \n",
              "2        0            1      1  \n",
              "3        0            1      1  \n",
              "4        0            1      1  \n",
              "\n",
              "[5 rows x 21 columns]"
            ]
          },
          "metadata": {
            "tags": []
          },
          "execution_count": 18
        }
      ]
    },
    {
      "metadata": {
        "colab_type": "code",
        "id": "fXrUXPURnXXw",
        "outputId": "cdd920e0-d950-4225-dd75-dda0a01e743f",
        "colab": {
          "base_uri": "https://localhost:8080/",
          "height": 417
        }
      },
      "cell_type": "code",
      "source": [
        "data.dtypes"
      ],
      "execution_count": 19,
      "outputs": [
        {
          "output_type": "execute_result",
          "data": {
            "text/plain": [
              "ID                              int64\n",
              "name                           object\n",
              "category                       object\n",
              "main_category                  object\n",
              "currency                       object\n",
              "deadline                       object\n",
              "goal                          float64\n",
              "launched               datetime64[ns]\n",
              "pledged                       float64\n",
              "state                          object\n",
              "backers                         int64\n",
              "country                        object\n",
              "usd_pledged_actual            float64\n",
              "usd_goal                      float64\n",
              "usd_pledged_to_goal           float64\n",
              "launch_month_year              object\n",
              "launch_year                    object\n",
              "launch_month                    int64\n",
              "success                         int64\n",
              "not_success                     int64\n",
              "count                           int64\n",
              "dtype: object"
            ]
          },
          "metadata": {
            "tags": []
          },
          "execution_count": 19
        }
      ]
    },
    {
      "metadata": {
        "colab_type": "text",
        "id": "ve1kgwLnvqXE"
      },
      "cell_type": "markdown",
      "source": [
        "The dataframe is now complete, clean, and ready for analysis. \n"
      ]
    },
    {
      "metadata": {
        "colab_type": "text",
        "id": "nQQwmwp3vn2N"
      },
      "cell_type": "markdown",
      "source": [
        "## General Overview of Kickstarter Projects\n",
        "\n",
        "Before delving into our analysis, we have provided below a general overview of projects on Kickstarter."
      ]
    },
    {
      "metadata": {
        "colab_type": "text",
        "id": "2-kLIJInuHZN"
      },
      "cell_type": "markdown",
      "source": [
        "#### What categories of projects are most launched?\n",
        "\n"
      ]
    },
    {
      "metadata": {
        "colab_type": "text",
        "id": "gSFWWdQy-A5s"
      },
      "cell_type": "markdown",
      "source": [
        "The data is divided into main categories and subcategories."
      ]
    },
    {
      "metadata": {
        "colab_type": "code",
        "id": "LeoJ-iWbTBmV",
        "outputId": "401e4976-f5cb-42f6-80e4-c6ef391c6574",
        "colab": {
          "base_uri": "https://localhost:8080/",
          "height": 349
        }
      },
      "cell_type": "code",
      "source": [
        "plt.style.use('fivethirtyeight')\n",
        "fig, ax = plt.subplots()\n",
        "data['main_category'].value_counts().plot(ax=ax,\n",
        "        kind='bar',\n",
        "        title = '# of Launched Projects by Main Category');"
      ],
      "execution_count": 20,
      "outputs": [
        {
          "output_type": "display_data",
          "data": {
            "image/png": "[encoded data removed]",
            "text/plain": [
              "<matplotlib.figure.Figure at 0x7f4b48485748>"
            ]
          },
          "metadata": {
            "tags": []
          }
        }
      ]
    },
    {
      "metadata": {
        "colab_type": "text",
        "id": "F25El3SucCPL"
      },
      "cell_type": "markdown",
      "source": [
        "The most popular project main categories on Kickstarter are Fim & Video, Music, and Publishing."
      ]
    },
    {
      "metadata": {
        "colab_type": "code",
        "id": "4_oc1BIcIWF3",
        "outputId": "b4ee6711-5661-4683-97f0-ed59a8731bc7",
        "colab": {
          "base_uri": "https://localhost:8080/",
          "height": 367
        }
      },
      "cell_type": "code",
      "source": [
        "plt.style.use('fivethirtyeight')\n",
        "fig, ax = plt.subplots()\n",
        "data['category'].value_counts()[:21].plot(ax=ax,\n",
        "        kind='bar',\n",
        "        title = '# of Launched Projects by Subcategory');"
      ],
      "execution_count": 21,
      "outputs": [
        {
          "output_type": "display_data",
          "data": {
            "image/png": "[encoded data removed]",
            "text/plain": [
              "<matplotlib.figure.Figure at 0x7f4b70826be0>"
            ]
          },
          "metadata": {
            "tags": []
          }
        }
      ]
    },
    {
      "metadata": {
        "colab_type": "text",
        "id": "bEOCLB9GPuXW"
      },
      "cell_type": "markdown",
      "source": [
        "The most popular project subcategories on Kickstarter are Product Design, Documentary, and Music. We have only plotted the top 20 most popular subcategories (out of 159 total subcategories)."
      ]
    },
    {
      "metadata": {
        "colab_type": "text",
        "id": "biHzmsCfA0fE"
      },
      "cell_type": "markdown",
      "source": [
        "#### Which categories of projects ask for the most money?"
      ]
    },
    {
      "metadata": {
        "colab_type": "code",
        "id": "sZRD7kPbAsAH",
        "outputId": "2203a3d5-54b2-41ed-cbf9-d00b6faeeff8",
        "colab": {
          "base_uri": "https://localhost:8080/",
          "height": 485
        }
      },
      "cell_type": "code",
      "source": [
        "category_funding = data.groupby(['main_category'])['usd_goal'].sum()\n",
        "plt.style.use('fivethirtyeight')\n",
        "fig, ax = plt.subplots(figsize=(6,6))\n",
        "category_funding.plot(ax=ax,\n",
        "        kind='bar', title = 'Goal by Category');"
      ],
      "execution_count": 22,
      "outputs": [
        {
          "output_type": "display_data",
          "data": {
            "image/png": "[encoded data removed]",
            "text/plain": [
              "<matplotlib.figure.Figure at 0x7f4b41323128>"
            ]
          },
          "metadata": {
            "tags": []
          }
        }
      ]
    },
    {
      "metadata": {
        "colab_type": "text",
        "id": "yYV3OnqfA6Nr"
      },
      "cell_type": "markdown",
      "source": [
        "Film & Video leads the pack. This is not surprising given that films tend to have high production costs."
      ]
    },
    {
      "metadata": {
        "colab_type": "text",
        "id": "2lNiYyIG47fg"
      },
      "cell_type": "markdown",
      "source": [
        "#### What categories of projects receive the most pledged dollars?"
      ]
    },
    {
      "metadata": {
        "colab_type": "code",
        "id": "ptyB7gf45te2",
        "outputId": "e1c03340-73ac-4f4f-8a37-72f50e1951b3",
        "colab": {
          "base_uri": "https://localhost:8080/",
          "height": 485
        }
      },
      "cell_type": "code",
      "source": [
        "category_funding = data.groupby(['main_category'])['usd_pledged_actual'].sum()\n",
        "plt.style.use('fivethirtyeight')\n",
        "fig, ax = plt.subplots(figsize=(6,6))\n",
        "category_funding.plot(ax=ax,\n",
        "        kind='bar', title = 'Pledged by Category');\n"
      ],
      "execution_count": 23,
      "outputs": [
        {
          "output_type": "display_data",
          "data": {
            "image/png": "[encoded data removed]",
            "text/plain": [
              "<matplotlib.figure.Figure at 0x7f4b412b0c50>"
            ]
          },
          "metadata": {
            "tags": []
          }
        }
      ]
    },
    {
      "metadata": {
        "colab_type": "text",
        "id": "wHrpA_OtBEmf"
      },
      "cell_type": "markdown",
      "source": [
        "Design, games, and technology receive the most pledged dollars. "
      ]
    },
    {
      "metadata": {
        "colab_type": "text",
        "id": "3-PUrBx1I251"
      },
      "cell_type": "markdown",
      "source": [
        "#### What is the percentage of projects have been successfully funded?"
      ]
    },
    {
      "metadata": {
        "colab_type": "code",
        "id": "NiJo7-5dF3zX",
        "outputId": "66cee729-7a85-4e0d-f779-64fe854019cc",
        "colab": {
          "base_uri": "https://localhost:8080/",
          "height": 403
        }
      },
      "cell_type": "code",
      "source": [
        "plt.style.use('fivethirtyeight')\n",
        "fig, ax = plt.subplots()\n",
        "data['state'].value_counts().plot(ax=ax,\n",
        "        kind='pie',\n",
        "        title = 'Projects by Status',figsize = (6,6),autopct='%.0f%%');"
      ],
      "execution_count": 24,
      "outputs": [
        {
          "output_type": "display_data",
          "data": {
            "image/png": "[encoded data removed]",
            "text/plain": [
              "<matplotlib.figure.Figure at 0x7f4b41244c88>"
            ]
          },
          "metadata": {
            "tags": []
          }
        }
      ]
    },
    {
      "metadata": {
        "colab_type": "text",
        "id": "eAxYoezmGnFc"
      },
      "cell_type": "markdown",
      "source": [
        "Approximately 65% of projects in the dataset have failed, while 35% have been successful."
      ]
    },
    {
      "metadata": {
        "colab_type": "text",
        "id": "GjPfUUDqHKMs"
      },
      "cell_type": "markdown",
      "source": [
        "#### What is the breakdown by country of Kickstarter projects?"
      ]
    },
    {
      "metadata": {
        "colab_type": "code",
        "id": "sOSSwW8TEZfI",
        "outputId": "fb4076d7-f30d-4f08-969b-dfd5dd56e71c",
        "colab": {
          "base_uri": "https://localhost:8080/",
          "height": 311
        }
      },
      "cell_type": "code",
      "source": [
        "plt.style.use('fivethirtyeight')\n",
        "fig, ax = plt.subplots()\n",
        "data['country'].value_counts()[:11].plot(ax=ax,\n",
        "        kind='bar',\n",
        "        title = 'Projects by Country');"
      ],
      "execution_count": 25,
      "outputs": [
        {
          "output_type": "display_data",
          "data": {
            "image/png": "[encoded data removed]",
            "text/plain": [
              "<matplotlib.figure.Figure at 0x7f4b412c5c88>"
            ]
          },
          "metadata": {
            "tags": []
          }
        }
      ]
    },
    {
      "metadata": {
        "colab_type": "text",
        "id": "h_9h3cRtE8oj"
      },
      "cell_type": "markdown",
      "source": [
        "Most projects on Kickstarter are based out of the United States. In order to analyze non-US projects, we excluded the US in the dataset. "
      ]
    },
    {
      "metadata": {
        "colab_type": "code",
        "id": "0yjOHcJZFp7z",
        "colab": {}
      },
      "cell_type": "code",
      "source": [
        "data_woUS = data[data.country != 'US']"
      ],
      "execution_count": 0,
      "outputs": []
    },
    {
      "metadata": {
        "colab_type": "code",
        "id": "jk3zcCedFpxb",
        "outputId": "e3a9caf7-4131-4228-81b9-065e3eed16de",
        "colab": {
          "base_uri": "https://localhost:8080/",
          "height": 311
        }
      },
      "cell_type": "code",
      "source": [
        "plt.style.use('fivethirtyeight')\n",
        "fig, ax = plt.subplots()\n",
        "data_woUS['country'].value_counts()[:11].plot(ax=ax,\n",
        "        kind='bar',\n",
        "        title = 'Projects by Country (Without US)');"
      ],
      "execution_count": 27,
      "outputs": [
        {
          "output_type": "display_data",
          "data": {
            "image/png": "[encoded data removed]",
            "text/plain": [
              "<matplotlib.figure.Figure at 0x7f4b411fa588>"
            ]
          },
          "metadata": {
            "tags": []
          }
        }
      ]
    },
    {
      "metadata": {
        "colab_type": "text",
        "id": "nmR3IkprGfG0"
      },
      "cell_type": "markdown",
      "source": [
        "Outside of the US,  projects originating out of Great Britain, Canada and Australia are most popular. From this, we infer that most participants in Kickstarter projects are English speakers."
      ]
    },
    {
      "metadata": {
        "colab_type": "text",
        "id": "sb2ZEq28HOAr"
      },
      "cell_type": "markdown",
      "source": [
        "#### How successful are successful projects?"
      ]
    },
    {
      "metadata": {
        "colab_type": "code",
        "id": "ExRM0_xJdqo3",
        "colab": {}
      },
      "cell_type": "code",
      "source": [
        "data_successes = data.loc[data['usd_pledged_to_goal'] >=1]"
      ],
      "execution_count": 0,
      "outputs": []
    },
    {
      "metadata": {
        "colab_type": "code",
        "id": "FrFfrJIFFdle",
        "outputId": "2b5a569f-caae-4c39-9d02-006d069ca083",
        "colab": {
          "base_uri": "https://localhost:8080/",
          "height": 308
        }
      },
      "cell_type": "code",
      "source": [
        "data_successes.describe()"
      ],
      "execution_count": 29,
      "outputs": [
        {
          "output_type": "execute_result",
          "data": {
            "text/html": [
              "<div>\n",
              "<style scoped>\n",
              "    .dataframe tbody tr th:only-of-type {\n",
              "        vertical-align: middle;\n",
              "    }\n",
              "\n",
              "    .dataframe tbody tr th {\n",
              "        vertical-align: top;\n",
              "    }\n",
              "\n",
              "    .dataframe thead th {\n",
              "        text-align: right;\n",
              "    }\n",
              "</style>\n",
              "<table border=\"1\" class=\"dataframe\">\n",
              "  <thead>\n",
              "    <tr style=\"text-align: right;\">\n",
              "      <th></th>\n",
              "      <th>ID</th>\n",
              "      <th>goal</th>\n",
              "      <th>pledged</th>\n",
              "      <th>backers</th>\n",
              "      <th>usd_pledged_actual</th>\n",
              "      <th>usd_goal</th>\n",
              "      <th>usd_pledged_to_goal</th>\n",
              "      <th>launch_month</th>\n",
              "      <th>success</th>\n",
              "      <th>not_success</th>\n",
              "      <th>count</th>\n",
              "    </tr>\n",
              "  </thead>\n",
              "  <tbody>\n",
              "    <tr>\n",
              "      <th>count</th>\n",
              "      <td>1.370420e+05</td>\n",
              "      <td>1.370420e+05</td>\n",
              "      <td>1.370420e+05</td>\n",
              "      <td>137042.000000</td>\n",
              "      <td>1.370420e+05</td>\n",
              "      <td>1.370420e+05</td>\n",
              "      <td>137042.000000</td>\n",
              "      <td>137042.000000</td>\n",
              "      <td>137042.000000</td>\n",
              "      <td>137042.000000</td>\n",
              "      <td>137042.0</td>\n",
              "    </tr>\n",
              "    <tr>\n",
              "      <th>mean</th>\n",
              "      <td>1.073986e+09</td>\n",
              "      <td>1.011567e+04</td>\n",
              "      <td>2.399057e+04</td>\n",
              "      <td>261.233979</td>\n",
              "      <td>2.254240e+04</td>\n",
              "      <td>9.477405e+03</td>\n",
              "      <td>8.784771</td>\n",
              "      <td>6.395215</td>\n",
              "      <td>0.977445</td>\n",
              "      <td>0.022555</td>\n",
              "      <td>1.0</td>\n",
              "    </tr>\n",
              "    <tr>\n",
              "      <th>std</th>\n",
              "      <td>6.189989e+08</td>\n",
              "      <td>3.103584e+04</td>\n",
              "      <td>1.573056e+05</td>\n",
              "      <td>1491.519712</td>\n",
              "      <td>1.499754e+05</td>\n",
              "      <td>2.773888e+04</td>\n",
              "      <td>443.612264</td>\n",
              "      <td>3.317165</td>\n",
              "      <td>0.148481</td>\n",
              "      <td>0.148481</td>\n",
              "      <td>0.0</td>\n",
              "    </tr>\n",
              "    <tr>\n",
              "      <th>min</th>\n",
              "      <td>2.110900e+04</td>\n",
              "      <td>1.000000e-02</td>\n",
              "      <td>1.000000e+00</td>\n",
              "      <td>0.000000</td>\n",
              "      <td>7.900000e-01</td>\n",
              "      <td>1.000000e-02</td>\n",
              "      <td>1.000000</td>\n",
              "      <td>1.000000</td>\n",
              "      <td>0.000000</td>\n",
              "      <td>0.000000</td>\n",
              "      <td>1.0</td>\n",
              "    </tr>\n",
              "    <tr>\n",
              "      <th>25%</th>\n",
              "      <td>5.360507e+08</td>\n",
              "      <td>1.250000e+03</td>\n",
              "      <td>1.990000e+03</td>\n",
              "      <td>32.000000</td>\n",
              "      <td>2.000000e+03</td>\n",
              "      <td>1.323050e+03</td>\n",
              "      <td>1.046333</td>\n",
              "      <td>4.000000</td>\n",
              "      <td>1.000000</td>\n",
              "      <td>0.000000</td>\n",
              "      <td>1.0</td>\n",
              "    </tr>\n",
              "    <tr>\n",
              "      <th>50%</th>\n",
              "      <td>1.076884e+09</td>\n",
              "      <td>3.850000e+03</td>\n",
              "      <td>5.105000e+03</td>\n",
              "      <td>69.000000</td>\n",
              "      <td>5.097790e+03</td>\n",
              "      <td>3.807055e+03</td>\n",
              "      <td>1.166667</td>\n",
              "      <td>6.000000</td>\n",
              "      <td>1.000000</td>\n",
              "      <td>0.000000</td>\n",
              "      <td>1.0</td>\n",
              "    </tr>\n",
              "    <tr>\n",
              "      <th>75%</th>\n",
              "      <td>1.608409e+09</td>\n",
              "      <td>1.000000e+04</td>\n",
              "      <td>1.330275e+04</td>\n",
              "      <td>166.000000</td>\n",
              "      <td>1.309596e+04</td>\n",
              "      <td>1.000000e+04</td>\n",
              "      <td>1.632000</td>\n",
              "      <td>9.000000</td>\n",
              "      <td>1.000000</td>\n",
              "      <td>0.000000</td>\n",
              "      <td>1.0</td>\n",
              "    </tr>\n",
              "    <tr>\n",
              "      <th>max</th>\n",
              "      <td>2.147476e+09</td>\n",
              "      <td>2.000000e+06</td>\n",
              "      <td>2.033899e+07</td>\n",
              "      <td>219382.000000</td>\n",
              "      <td>2.033899e+07</td>\n",
              "      <td>2.015609e+06</td>\n",
              "      <td>104277.890000</td>\n",
              "      <td>12.000000</td>\n",
              "      <td>1.000000</td>\n",
              "      <td>1.000000</td>\n",
              "      <td>1.0</td>\n",
              "    </tr>\n",
              "  </tbody>\n",
              "</table>\n",
              "</div>"
            ],
            "text/plain": [
              "                 ID          goal       pledged        backers  \\\n",
              "count  1.370420e+05  1.370420e+05  1.370420e+05  137042.000000   \n",
              "mean   1.073986e+09  1.011567e+04  2.399057e+04     261.233979   \n",
              "std    6.189989e+08  3.103584e+04  1.573056e+05    1491.519712   \n",
              "min    2.110900e+04  1.000000e-02  1.000000e+00       0.000000   \n",
              "25%    5.360507e+08  1.250000e+03  1.990000e+03      32.000000   \n",
              "50%    1.076884e+09  3.850000e+03  5.105000e+03      69.000000   \n",
              "75%    1.608409e+09  1.000000e+04  1.330275e+04     166.000000   \n",
              "max    2.147476e+09  2.000000e+06  2.033899e+07  219382.000000   \n",
              "\n",
              "       usd_pledged_actual      usd_goal  usd_pledged_to_goal   launch_month  \\\n",
              "count        1.370420e+05  1.370420e+05        137042.000000  137042.000000   \n",
              "mean         2.254240e+04  9.477405e+03             8.784771       6.395215   \n",
              "std          1.499754e+05  2.773888e+04           443.612264       3.317165   \n",
              "min          7.900000e-01  1.000000e-02             1.000000       1.000000   \n",
              "25%          2.000000e+03  1.323050e+03             1.046333       4.000000   \n",
              "50%          5.097790e+03  3.807055e+03             1.166667       6.000000   \n",
              "75%          1.309596e+04  1.000000e+04             1.632000       9.000000   \n",
              "max          2.033899e+07  2.015609e+06        104277.890000      12.000000   \n",
              "\n",
              "             success    not_success     count  \n",
              "count  137042.000000  137042.000000  137042.0  \n",
              "mean        0.977445       0.022555       1.0  \n",
              "std         0.148481       0.148481       0.0  \n",
              "min         0.000000       0.000000       1.0  \n",
              "25%         1.000000       0.000000       1.0  \n",
              "50%         1.000000       0.000000       1.0  \n",
              "75%         1.000000       0.000000       1.0  \n",
              "max         1.000000       1.000000       1.0  "
            ]
          },
          "metadata": {
            "tags": []
          },
          "execution_count": 29
        }
      ]
    },
    {
      "metadata": {
        "colab_type": "text",
        "id": "3baDESkgFhGc"
      },
      "cell_type": "markdown",
      "source": [
        "The above table shows basic statistics on successful projects. We can see that, on average, successful projects made approximately 8.78x their fundraising goal. Yet, this statistic is somewhat misleading. We note that 75% of projects make 1.63x or less of their fundraising goal. The average is being lifted by some extremely successful projects, such as the one seen in the max statistic (104,277x).\n",
        "\n",
        "**The takeaway: it's unlikely your Kickstarter project will earn more than 2x its goal, but most successful projects do indeed exceed their fundraising goals — even if only by a small margin.**"
      ]
    },
    {
      "metadata": {
        "colab_type": "code",
        "id": "jV7LGD-ZSRDf",
        "outputId": "7571ad6a-00e2-4b11-b7a1-e6d8e6c420a1",
        "colab": {
          "base_uri": "https://localhost:8080/",
          "height": 35
        }
      },
      "cell_type": "code",
      "source": [
        "len(data[data['usd_pledged_to_goal'] >= 2]) /data['usd_pledged_to_goal'].count()"
      ],
      "execution_count": 30,
      "outputs": [
        {
          "output_type": "execute_result",
          "data": {
            "text/plain": [
              "0.06888219277929335"
            ]
          },
          "metadata": {
            "tags": []
          },
          "execution_count": 30
        }
      ]
    },
    {
      "metadata": {
        "colab_type": "text",
        "id": "kiwwmrjVNHpE"
      },
      "cell_type": "markdown",
      "source": [
        "Out of all projects (both successful and not successful), we can note that 6.9% of projects exceeded their fundraising goal by 100% (2x) or more. "
      ]
    },
    {
      "metadata": {
        "colab_type": "text",
        "id": "vcsU3d8FXGyj"
      },
      "cell_type": "markdown",
      "source": [
        "#### **How** badly do failed projects fail?"
      ]
    },
    {
      "metadata": {
        "colab_type": "code",
        "id": "0Mzqudu8Xsl9",
        "colab": {}
      },
      "cell_type": "code",
      "source": [
        "data_failures = data.loc[data['usd_pledged_to_goal'] <1]"
      ],
      "execution_count": 0,
      "outputs": []
    },
    {
      "metadata": {
        "colab_type": "code",
        "id": "sjfIQNB2CKK5",
        "outputId": "404b3f03-fa4a-47bd-a1c0-077ccb4bad47",
        "colab": {
          "base_uri": "https://localhost:8080/",
          "height": 308
        }
      },
      "cell_type": "code",
      "source": [
        "data_failures.describe()"
      ],
      "execution_count": 32,
      "outputs": [
        {
          "output_type": "execute_result",
          "data": {
            "text/html": [
              "<div>\n",
              "<style scoped>\n",
              "    .dataframe tbody tr th:only-of-type {\n",
              "        vertical-align: middle;\n",
              "    }\n",
              "\n",
              "    .dataframe tbody tr th {\n",
              "        vertical-align: top;\n",
              "    }\n",
              "\n",
              "    .dataframe thead th {\n",
              "        text-align: right;\n",
              "    }\n",
              "</style>\n",
              "<table border=\"1\" class=\"dataframe\">\n",
              "  <thead>\n",
              "    <tr style=\"text-align: right;\">\n",
              "      <th></th>\n",
              "      <th>ID</th>\n",
              "      <th>goal</th>\n",
              "      <th>pledged</th>\n",
              "      <th>backers</th>\n",
              "      <th>usd_pledged_actual</th>\n",
              "      <th>usd_goal</th>\n",
              "      <th>usd_pledged_to_goal</th>\n",
              "      <th>launch_month</th>\n",
              "      <th>success</th>\n",
              "      <th>not_success</th>\n",
              "      <th>count</th>\n",
              "    </tr>\n",
              "  </thead>\n",
              "  <tbody>\n",
              "    <tr>\n",
              "      <th>count</th>\n",
              "      <td>2.416190e+05</td>\n",
              "      <td>2.416190e+05</td>\n",
              "      <td>2.416190e+05</td>\n",
              "      <td>241619.000000</td>\n",
              "      <td>241619.000000</td>\n",
              "      <td>2.416190e+05</td>\n",
              "      <td>241619.000000</td>\n",
              "      <td>241619.000000</td>\n",
              "      <td>241619.000000</td>\n",
              "      <td>241619.000000</td>\n",
              "      <td>241619.0</td>\n",
              "    </tr>\n",
              "    <tr>\n",
              "      <th>mean</th>\n",
              "      <td>1.075154e+09</td>\n",
              "      <td>7.118112e+04</td>\n",
              "      <td>1.567968e+03</td>\n",
              "      <td>17.354562</td>\n",
              "      <td>1411.336545</td>\n",
              "      <td>6.585991e+04</td>\n",
              "      <td>0.089025</td>\n",
              "      <td>6.499174</td>\n",
              "      <td>0.000021</td>\n",
              "      <td>0.999979</td>\n",
              "      <td>1.0</td>\n",
              "    </tr>\n",
              "    <tr>\n",
              "      <th>std</th>\n",
              "      <td>6.191366e+08</td>\n",
              "      <td>1.480815e+06</td>\n",
              "      <td>1.081579e+04</td>\n",
              "      <td>80.474315</td>\n",
              "      <td>7160.467043</td>\n",
              "      <td>1.442797e+06</td>\n",
              "      <td>0.152991</td>\n",
              "      <td>3.336888</td>\n",
              "      <td>0.004549</td>\n",
              "      <td>0.004549</td>\n",
              "      <td>0.0</td>\n",
              "    </tr>\n",
              "    <tr>\n",
              "      <th>min</th>\n",
              "      <td>5.971000e+03</td>\n",
              "      <td>1.000000e-02</td>\n",
              "      <td>0.000000e+00</td>\n",
              "      <td>0.000000</td>\n",
              "      <td>0.000000</td>\n",
              "      <td>1.000000e-02</td>\n",
              "      <td>0.000000</td>\n",
              "      <td>1.000000</td>\n",
              "      <td>0.000000</td>\n",
              "      <td>0.000000</td>\n",
              "      <td>1.0</td>\n",
              "    </tr>\n",
              "    <tr>\n",
              "      <th>25%</th>\n",
              "      <td>5.395850e+08</td>\n",
              "      <td>2.600000e+03</td>\n",
              "      <td>1.000000e+00</td>\n",
              "      <td>1.000000</td>\n",
              "      <td>1.080000</td>\n",
              "      <td>2.690480e+03</td>\n",
              "      <td>0.000143</td>\n",
              "      <td>4.000000</td>\n",
              "      <td>0.000000</td>\n",
              "      <td>1.000000</td>\n",
              "      <td>1.0</td>\n",
              "    </tr>\n",
              "    <tr>\n",
              "      <th>50%</th>\n",
              "      <td>1.074463e+09</td>\n",
              "      <td>8.000000e+03</td>\n",
              "      <td>1.000000e+02</td>\n",
              "      <td>3.000000</td>\n",
              "      <td>99.000000</td>\n",
              "      <td>7.559720e+03</td>\n",
              "      <td>0.015370</td>\n",
              "      <td>7.000000</td>\n",
              "      <td>0.000000</td>\n",
              "      <td>1.000000</td>\n",
              "      <td>1.0</td>\n",
              "    </tr>\n",
              "    <tr>\n",
              "      <th>75%</th>\n",
              "      <td>1.611168e+09</td>\n",
              "      <td>2.350000e+04</td>\n",
              "      <td>6.870000e+02</td>\n",
              "      <td>12.000000</td>\n",
              "      <td>676.150000</td>\n",
              "      <td>2.200000e+04</td>\n",
              "      <td>0.107698</td>\n",
              "      <td>9.000000</td>\n",
              "      <td>0.000000</td>\n",
              "      <td>1.000000</td>\n",
              "      <td>1.0</td>\n",
              "    </tr>\n",
              "    <tr>\n",
              "      <th>max</th>\n",
              "      <td>2.147467e+09</td>\n",
              "      <td>1.000000e+08</td>\n",
              "      <td>1.748630e+06</td>\n",
              "      <td>9326.000000</td>\n",
              "      <td>757352.940000</td>\n",
              "      <td>1.663614e+08</td>\n",
              "      <td>0.999974</td>\n",
              "      <td>12.000000</td>\n",
              "      <td>1.000000</td>\n",
              "      <td>1.000000</td>\n",
              "      <td>1.0</td>\n",
              "    </tr>\n",
              "  </tbody>\n",
              "</table>\n",
              "</div>"
            ],
            "text/plain": [
              "                 ID          goal       pledged        backers  \\\n",
              "count  2.416190e+05  2.416190e+05  2.416190e+05  241619.000000   \n",
              "mean   1.075154e+09  7.118112e+04  1.567968e+03      17.354562   \n",
              "std    6.191366e+08  1.480815e+06  1.081579e+04      80.474315   \n",
              "min    5.971000e+03  1.000000e-02  0.000000e+00       0.000000   \n",
              "25%    5.395850e+08  2.600000e+03  1.000000e+00       1.000000   \n",
              "50%    1.074463e+09  8.000000e+03  1.000000e+02       3.000000   \n",
              "75%    1.611168e+09  2.350000e+04  6.870000e+02      12.000000   \n",
              "max    2.147467e+09  1.000000e+08  1.748630e+06    9326.000000   \n",
              "\n",
              "       usd_pledged_actual      usd_goal  usd_pledged_to_goal   launch_month  \\\n",
              "count       241619.000000  2.416190e+05        241619.000000  241619.000000   \n",
              "mean          1411.336545  6.585991e+04             0.089025       6.499174   \n",
              "std           7160.467043  1.442797e+06             0.152991       3.336888   \n",
              "min              0.000000  1.000000e-02             0.000000       1.000000   \n",
              "25%              1.080000  2.690480e+03             0.000143       4.000000   \n",
              "50%             99.000000  7.559720e+03             0.015370       7.000000   \n",
              "75%            676.150000  2.200000e+04             0.107698       9.000000   \n",
              "max         757352.940000  1.663614e+08             0.999974      12.000000   \n",
              "\n",
              "             success    not_success     count  \n",
              "count  241619.000000  241619.000000  241619.0  \n",
              "mean        0.000021       0.999979       1.0  \n",
              "std         0.004549       0.004549       0.0  \n",
              "min         0.000000       0.000000       1.0  \n",
              "25%         0.000000       1.000000       1.0  \n",
              "50%         0.000000       1.000000       1.0  \n",
              "75%         0.000000       1.000000       1.0  \n",
              "max         1.000000       1.000000       1.0  "
            ]
          },
          "metadata": {
            "tags": []
          },
          "execution_count": 32
        }
      ]
    },
    {
      "metadata": {
        "colab_type": "text",
        "id": "AAesIVPmbx8o"
      },
      "cell_type": "markdown",
      "source": [
        "The above table shows basic statistics on failed projects. We can see that, on average, failed projects made only approximately 9% of their fundraising goal. 50% of failed projects made 1.5% or less of their fundraising goal and 75% of failed projects made 10.8% or less.  \n",
        "\n",
        "**The takeaway: if you fail on Kickstarter, you're likely to fail by a large margin.**"
      ]
    },
    {
      "metadata": {
        "colab_type": "code",
        "id": "0kPGfZeNcvOI",
        "outputId": "fdf3dac7-c6e1-428f-e6f6-095ce1504508",
        "colab": {
          "base_uri": "https://localhost:8080/",
          "height": 35
        }
      },
      "cell_type": "code",
      "source": [
        "len(data[data['usd_pledged_to_goal'] == 0]) /data['usd_pledged_to_goal'].count()"
      ],
      "execution_count": 33,
      "outputs": [
        {
          "output_type": "execute_result",
          "data": {
            "text/plain": [
              "0.1387177448958303"
            ]
          },
          "metadata": {
            "tags": []
          },
          "execution_count": 33
        }
      ]
    },
    {
      "metadata": {
        "colab_type": "text",
        "id": "WLwrDOtpcTXM"
      },
      "cell_type": "markdown",
      "source": [
        "Out of all projects (both successful and not successful), we can note that approximately 30% make only 1% or less of their fundraising goal. "
      ]
    },
    {
      "metadata": {
        "colab_type": "text",
        "id": "XqDsYPXndHlj"
      },
      "cell_type": "markdown",
      "source": [
        "##  Trends on Kickstarter (2009-2018) \n",
        "Below, we have provided an analysis of trends on Kickstarter over time to better understand high level yearly trends on the platform."
      ]
    },
    {
      "metadata": {
        "colab_type": "text",
        "id": "rwJAur_c8P9p"
      },
      "cell_type": "markdown",
      "source": [
        "#### Creating the Dataframe"
      ]
    },
    {
      "metadata": {
        "colab_type": "text",
        "id": "-EZQehpHuNAn"
      },
      "cell_type": "markdown",
      "source": [
        "In order to analyze summary data by year, we created a new dataframe with the year as the index. In order to do so, we converted the dtype of **'launch_year' ** to int so that we could iterate through each year. The dataset includes data from 2009 to 2018, but 2018 is not complete."
      ]
    },
    {
      "metadata": {
        "colab_type": "code",
        "id": "gqopd7KQtIHm",
        "colab": {}
      },
      "cell_type": "code",
      "source": [
        "data['launch_year'] = data['launch_year'].astype(str)\n",
        "data['launch_year'] = data['launch_year'].astype(int)"
      ],
      "execution_count": 0,
      "outputs": []
    },
    {
      "metadata": {
        "colab_type": "code",
        "id": "DzeOMNa0q73Q",
        "colab": {}
      },
      "cell_type": "code",
      "source": [
        "data_byyear ={}\n",
        "for year in range(2009, 2019):\n",
        "  data_byyear[year]=data[data['launch_year']==year]['launch_year'].count()"
      ],
      "execution_count": 0,
      "outputs": []
    },
    {
      "metadata": {
        "colab_type": "text",
        "id": "6PLVnKTJ8xSv"
      },
      "cell_type": "markdown",
      "source": [
        "We then created the dataframe with year as the index."
      ]
    },
    {
      "metadata": {
        "colab_type": "code",
        "id": "wDO_kiTmtocf",
        "colab": {}
      },
      "cell_type": "code",
      "source": [
        "data_byyear = pd.Series(data_byyear)\n",
        "data_byyear = pd.DataFrame(data_byyear)\n",
        "data_byyear = data_byyear.rename(columns = {0:'count of projects'})"
      ],
      "execution_count": 0,
      "outputs": []
    },
    {
      "metadata": {
        "colab_type": "text",
        "id": "yvQsxAKa59W7"
      },
      "cell_type": "markdown",
      "source": [
        "We then added other yearly summary data to the new dataframe by creating additional loops and adding the output of these loops to the data_byyear dataframe."
      ]
    },
    {
      "metadata": {
        "colab_type": "code",
        "id": "VxARMmBt70j7",
        "colab": {}
      },
      "cell_type": "code",
      "source": [
        "data1 ={}\n",
        "for year in range(2009, 2019):\n",
        "  data1[year]=data[data['launch_year']==year]['usd_goal'].sum()/1000000"
      ],
      "execution_count": 0,
      "outputs": []
    },
    {
      "metadata": {
        "colab_type": "code",
        "id": "uDjLPdya3wvX",
        "colab": {}
      },
      "cell_type": "code",
      "source": [
        "data2 ={}\n",
        "for year in range(2009, 2019):\n",
        "  data2[year]=data[data['launch_year']==year]['usd_pledged_actual'].sum()/1000000"
      ],
      "execution_count": 0,
      "outputs": []
    },
    {
      "metadata": {
        "colab_type": "code",
        "id": "9XDAszXO70WN",
        "colab": {}
      },
      "cell_type": "code",
      "source": [
        "data_byyear['total asked($mil)'] = pd.Series(data1)"
      ],
      "execution_count": 0,
      "outputs": []
    },
    {
      "metadata": {
        "colab_type": "code",
        "id": "V5-TfmyO5bn9",
        "colab": {}
      },
      "cell_type": "code",
      "source": [
        "data_byyear ['total pledged ($mil)'] = pd.Series(data2)"
      ],
      "execution_count": 0,
      "outputs": []
    },
    {
      "metadata": {
        "colab_type": "code",
        "id": "23DMn02z9vT3",
        "colab": {}
      },
      "cell_type": "code",
      "source": [
        "data_byyear['pledged/goal'] = data_byyear ['total pledged ($mil)']/data_byyear['total asked($mil)']"
      ],
      "execution_count": 0,
      "outputs": []
    },
    {
      "metadata": {
        "colab_type": "code",
        "id": "qObWMwfN_4NM",
        "colab": {}
      },
      "cell_type": "code",
      "source": [
        "data3 ={}\n",
        "for year in range(2009, 2019):\n",
        "  data3[year]=data[data['launch_year']==year]['usd_pledged_to_goal'].median()"
      ],
      "execution_count": 0,
      "outputs": []
    },
    {
      "metadata": {
        "colab_type": "code",
        "id": "X0pw4JYBAQQX",
        "colab": {}
      },
      "cell_type": "code",
      "source": [
        "data_byyear ['median pledged to goal ratio'] = pd.Series(data3)"
      ],
      "execution_count": 0,
      "outputs": []
    },
    {
      "metadata": {
        "colab_type": "code",
        "id": "0ulc8aqZSqXV",
        "colab": {}
      },
      "cell_type": "code",
      "source": [
        "data4 ={}\n",
        "for year in range(2009, 2019):\n",
        "  data4[year]=data[data['launch_year']==year]['usd_pledged_to_goal'].mean()"
      ],
      "execution_count": 0,
      "outputs": []
    },
    {
      "metadata": {
        "colab_type": "code",
        "id": "CNW17jkbSyhH",
        "colab": {}
      },
      "cell_type": "code",
      "source": [
        "data_byyear ['avg pledged to goal ratio'] = pd.Series(data4)"
      ],
      "execution_count": 0,
      "outputs": []
    },
    {
      "metadata": {
        "colab_type": "code",
        "id": "vFfL09CrrkWN",
        "colab": {}
      },
      "cell_type": "code",
      "source": [
        "data5 ={}\n",
        "for year in range(2009, 2019):\n",
        "  data5[year]=data[data['launch_year']==year]['success'].sum()"
      ],
      "execution_count": 0,
      "outputs": []
    },
    {
      "metadata": {
        "colab_type": "code",
        "id": "qxwQbWhdrqaX",
        "colab": {}
      },
      "cell_type": "code",
      "source": [
        "data_byyear ['total successful'] = pd.Series(data5)"
      ],
      "execution_count": 0,
      "outputs": []
    },
    {
      "metadata": {
        "colab_type": "code",
        "id": "pV35v5rOu5s2",
        "colab": {}
      },
      "cell_type": "code",
      "source": [
        "data6 ={}\n",
        "for year in range(2009, 2019):\n",
        "  data6[year]=data[data['launch_year']==year]['not_success'].sum()"
      ],
      "execution_count": 0,
      "outputs": []
    },
    {
      "metadata": {
        "colab_type": "code",
        "id": "isIh6mwXu5j3",
        "colab": {}
      },
      "cell_type": "code",
      "source": [
        "data_byyear ['total not successful'] = pd.Series(data6)"
      ],
      "execution_count": 0,
      "outputs": []
    },
    {
      "metadata": {
        "colab_type": "text",
        "id": "ArnsqHTiwaLS"
      },
      "cell_type": "markdown",
      "source": [
        "We then inserted two columns to calcualte success and not success rates by year."
      ]
    },
    {
      "metadata": {
        "colab_type": "code",
        "id": "WZ__a58EvO0G",
        "colab": {}
      },
      "cell_type": "code",
      "source": [
        "data_byyear ['% successful'] = data_byyear ['total successful']/(data_byyear ['total successful']+data_byyear ['total not successful'])"
      ],
      "execution_count": 0,
      "outputs": []
    },
    {
      "metadata": {
        "colab_type": "code",
        "id": "amn8vNmcnAxG",
        "colab": {}
      },
      "cell_type": "code",
      "source": [
        "data_byyear ['% not successful'] = data_byyear ['total not successful']/(data_byyear ['total successful']+data_byyear ['total not successful'])"
      ],
      "execution_count": 0,
      "outputs": []
    },
    {
      "metadata": {
        "colab_type": "code",
        "id": "z4f5jdl0wz7K",
        "colab": {}
      },
      "cell_type": "code",
      "source": [
        "data7 ={}\n",
        "for year in range(2009, 2019):\n",
        "  data7[year]=data[data['launch_year']==year]['backers'].mean()"
      ],
      "execution_count": 0,
      "outputs": []
    },
    {
      "metadata": {
        "colab_type": "code",
        "id": "kmBTzooDw5Gg",
        "colab": {}
      },
      "cell_type": "code",
      "source": [
        "data_byyear ['avg backers per project'] = pd.Series(data7)"
      ],
      "execution_count": 0,
      "outputs": []
    },
    {
      "metadata": {
        "colab_type": "code",
        "id": "Cr3H1VDtzpsJ",
        "colab": {}
      },
      "cell_type": "code",
      "source": [
        "data8 ={}\n",
        "for year in range(2009, 2019):\n",
        "  data8[year]=data[data['launch_year']==year]['backers'].sum()"
      ],
      "execution_count": 0,
      "outputs": []
    },
    {
      "metadata": {
        "colab_type": "code",
        "id": "_ZoQpIAGzu0L",
        "colab": {}
      },
      "cell_type": "code",
      "source": [
        "data_byyear ['total backers'] = pd.Series(data8)"
      ],
      "execution_count": 0,
      "outputs": []
    },
    {
      "metadata": {
        "colab_type": "code",
        "id": "0hfl-N46--Jg",
        "colab": {}
      },
      "cell_type": "code",
      "source": [
        "data_byyear ['$ per backer'] = data_byyear['total pledged ($mil)']*1000000/data_byyear['total backers']"
      ],
      "execution_count": 0,
      "outputs": []
    },
    {
      "metadata": {
        "colab_type": "text",
        "id": "Bv6Rr41rXTGE"
      },
      "cell_type": "markdown",
      "source": [
        "#### What has happened on a yearly basis since Kickstarter launched in 2009?"
      ]
    },
    {
      "metadata": {
        "colab_type": "text",
        "id": "9TLVLx3xX4OZ"
      },
      "cell_type": "markdown",
      "source": [
        "The dataframe below contains all of the aggregate yearly data. "
      ]
    },
    {
      "metadata": {
        "colab_type": "code",
        "id": "KjS8R8AW52tR",
        "outputId": "401aa3e6-8ca6-4364-de72-65205b1711c9",
        "colab": {
          "base_uri": "https://localhost:8080/",
          "height": 420
        }
      },
      "cell_type": "code",
      "source": [
        "data_byyear"
      ],
      "execution_count": 57,
      "outputs": [
        {
          "output_type": "execute_result",
          "data": {
            "text/html": [
              "<div>\n",
              "<style scoped>\n",
              "    .dataframe tbody tr th:only-of-type {\n",
              "        vertical-align: middle;\n",
              "    }\n",
              "\n",
              "    .dataframe tbody tr th {\n",
              "        vertical-align: top;\n",
              "    }\n",
              "\n",
              "    .dataframe thead th {\n",
              "        text-align: right;\n",
              "    }\n",
              "</style>\n",
              "<table border=\"1\" class=\"dataframe\">\n",
              "  <thead>\n",
              "    <tr style=\"text-align: right;\">\n",
              "      <th></th>\n",
              "      <th>count of projects</th>\n",
              "      <th>total asked($mil)</th>\n",
              "      <th>total pledged ($mil)</th>\n",
              "      <th>pledged/goal</th>\n",
              "      <th>median pledged to goal ratio</th>\n",
              "      <th>avg pledged to goal ratio</th>\n",
              "      <th>total successful</th>\n",
              "      <th>total not successful</th>\n",
              "      <th>% successful</th>\n",
              "      <th>% not successful</th>\n",
              "      <th>avg backers per project</th>\n",
              "      <th>total backers</th>\n",
              "      <th>$ per backer</th>\n",
              "    </tr>\n",
              "  </thead>\n",
              "  <tbody>\n",
              "    <tr>\n",
              "      <th>2009</th>\n",
              "      <td>1329</td>\n",
              "      <td>9.385495</td>\n",
              "      <td>2.845501</td>\n",
              "      <td>0.303181</td>\n",
              "      <td>0.255400</td>\n",
              "      <td>8.648366</td>\n",
              "      <td>579</td>\n",
              "      <td>750</td>\n",
              "      <td>0.435666</td>\n",
              "      <td>0.564334</td>\n",
              "      <td>32.925508</td>\n",
              "      <td>43758</td>\n",
              "      <td>65.028135</td>\n",
              "    </tr>\n",
              "    <tr>\n",
              "      <th>2010</th>\n",
              "      <td>10519</td>\n",
              "      <td>138.793983</td>\n",
              "      <td>29.458273</td>\n",
              "      <td>0.212245</td>\n",
              "      <td>0.261935</td>\n",
              "      <td>2.111913</td>\n",
              "      <td>4593</td>\n",
              "      <td>5926</td>\n",
              "      <td>0.436638</td>\n",
              "      <td>0.563362</td>\n",
              "      <td>38.680008</td>\n",
              "      <td>406875</td>\n",
              "      <td>72.401285</td>\n",
              "    </tr>\n",
              "    <tr>\n",
              "      <th>2011</th>\n",
              "      <td>26237</td>\n",
              "      <td>326.340132</td>\n",
              "      <td>103.752594</td>\n",
              "      <td>0.317928</td>\n",
              "      <td>0.369150</td>\n",
              "      <td>1.218571</td>\n",
              "      <td>12171</td>\n",
              "      <td>14066</td>\n",
              "      <td>0.463887</td>\n",
              "      <td>0.536113</td>\n",
              "      <td>53.225331</td>\n",
              "      <td>1396473</td>\n",
              "      <td>74.296169</td>\n",
              "    </tr>\n",
              "    <tr>\n",
              "      <th>2012</th>\n",
              "      <td>41165</td>\n",
              "      <td>822.360781</td>\n",
              "      <td>322.451880</td>\n",
              "      <td>0.392105</td>\n",
              "      <td>0.291110</td>\n",
              "      <td>1.183560</td>\n",
              "      <td>17892</td>\n",
              "      <td>23273</td>\n",
              "      <td>0.434641</td>\n",
              "      <td>0.565359</td>\n",
              "      <td>105.521341</td>\n",
              "      <td>4343786</td>\n",
              "      <td>74.232911</td>\n",
              "    </tr>\n",
              "    <tr>\n",
              "      <th>2013</th>\n",
              "      <td>44851</td>\n",
              "      <td>1234.076888</td>\n",
              "      <td>478.540726</td>\n",
              "      <td>0.387772</td>\n",
              "      <td>0.317647</td>\n",
              "      <td>2.927810</td>\n",
              "      <td>19415</td>\n",
              "      <td>25436</td>\n",
              "      <td>0.432878</td>\n",
              "      <td>0.567122</td>\n",
              "      <td>140.299391</td>\n",
              "      <td>6292568</td>\n",
              "      <td>76.048559</td>\n",
              "    </tr>\n",
              "    <tr>\n",
              "      <th>2014</th>\n",
              "      <td>67745</td>\n",
              "      <td>3374.493524</td>\n",
              "      <td>524.650854</td>\n",
              "      <td>0.155475</td>\n",
              "      <td>0.088000</td>\n",
              "      <td>2.129250</td>\n",
              "      <td>21107</td>\n",
              "      <td>46638</td>\n",
              "      <td>0.311565</td>\n",
              "      <td>0.688435</td>\n",
              "      <td>91.439604</td>\n",
              "      <td>6194576</td>\n",
              "      <td>84.695200</td>\n",
              "    </tr>\n",
              "    <tr>\n",
              "      <th>2015</th>\n",
              "      <td>77300</td>\n",
              "      <td>5722.985754</td>\n",
              "      <td>687.548673</td>\n",
              "      <td>0.120138</td>\n",
              "      <td>0.044442</td>\n",
              "      <td>3.635040</td>\n",
              "      <td>20971</td>\n",
              "      <td>56329</td>\n",
              "      <td>0.271294</td>\n",
              "      <td>0.728706</td>\n",
              "      <td>97.180569</td>\n",
              "      <td>7512058</td>\n",
              "      <td>91.526007</td>\n",
              "    </tr>\n",
              "    <tr>\n",
              "      <th>2016</th>\n",
              "      <td>57184</td>\n",
              "      <td>3388.155812</td>\n",
              "      <td>656.949944</td>\n",
              "      <td>0.193896</td>\n",
              "      <td>0.096388</td>\n",
              "      <td>7.236768</td>\n",
              "      <td>18766</td>\n",
              "      <td>38418</td>\n",
              "      <td>0.328169</td>\n",
              "      <td>0.671831</td>\n",
              "      <td>125.010562</td>\n",
              "      <td>7148604</td>\n",
              "      <td>91.899054</td>\n",
              "    </tr>\n",
              "    <tr>\n",
              "      <th>2017</th>\n",
              "      <td>52200</td>\n",
              "      <td>2193.456921</td>\n",
              "      <td>623.999581</td>\n",
              "      <td>0.284482</td>\n",
              "      <td>0.160000</td>\n",
              "      <td>2.692778</td>\n",
              "      <td>18462</td>\n",
              "      <td>33738</td>\n",
              "      <td>0.353678</td>\n",
              "      <td>0.646322</td>\n",
              "      <td>127.459004</td>\n",
              "      <td>6653360</td>\n",
              "      <td>93.787136</td>\n",
              "    </tr>\n",
              "    <tr>\n",
              "      <th>2018</th>\n",
              "      <td>124</td>\n",
              "      <td>1.722718</td>\n",
              "      <td>0.063223</td>\n",
              "      <td>0.036699</td>\n",
              "      <td>0.023095</td>\n",
              "      <td>0.408755</td>\n",
              "      <td>0</td>\n",
              "      <td>124</td>\n",
              "      <td>0.000000</td>\n",
              "      <td>1.000000</td>\n",
              "      <td>9.362903</td>\n",
              "      <td>1161</td>\n",
              "      <td>54.455461</td>\n",
              "    </tr>\n",
              "  </tbody>\n",
              "</table>\n",
              "</div>"
            ],
            "text/plain": [
              "      count of projects  total asked($mil)  total pledged ($mil)  \\\n",
              "2009               1329           9.385495              2.845501   \n",
              "2010              10519         138.793983             29.458273   \n",
              "2011              26237         326.340132            103.752594   \n",
              "2012              41165         822.360781            322.451880   \n",
              "2013              44851        1234.076888            478.540726   \n",
              "2014              67745        3374.493524            524.650854   \n",
              "2015              77300        5722.985754            687.548673   \n",
              "2016              57184        3388.155812            656.949944   \n",
              "2017              52200        2193.456921            623.999581   \n",
              "2018                124           1.722718              0.063223   \n",
              "\n",
              "      pledged/goal  median pledged to goal ratio  avg pledged to goal ratio  \\\n",
              "2009      0.303181                      0.255400                   8.648366   \n",
              "2010      0.212245                      0.261935                   2.111913   \n",
              "2011      0.317928                      0.369150                   1.218571   \n",
              "2012      0.392105                      0.291110                   1.183560   \n",
              "2013      0.387772                      0.317647                   2.927810   \n",
              "2014      0.155475                      0.088000                   2.129250   \n",
              "2015      0.120138                      0.044442                   3.635040   \n",
              "2016      0.193896                      0.096388                   7.236768   \n",
              "2017      0.284482                      0.160000                   2.692778   \n",
              "2018      0.036699                      0.023095                   0.408755   \n",
              "\n",
              "      total successful  total not successful  % successful  % not successful  \\\n",
              "2009               579                   750      0.435666          0.564334   \n",
              "2010              4593                  5926      0.436638          0.563362   \n",
              "2011             12171                 14066      0.463887          0.536113   \n",
              "2012             17892                 23273      0.434641          0.565359   \n",
              "2013             19415                 25436      0.432878          0.567122   \n",
              "2014             21107                 46638      0.311565          0.688435   \n",
              "2015             20971                 56329      0.271294          0.728706   \n",
              "2016             18766                 38418      0.328169          0.671831   \n",
              "2017             18462                 33738      0.353678          0.646322   \n",
              "2018                 0                   124      0.000000          1.000000   \n",
              "\n",
              "      avg backers per project  total backers  $ per backer  \n",
              "2009                32.925508          43758     65.028135  \n",
              "2010                38.680008         406875     72.401285  \n",
              "2011                53.225331        1396473     74.296169  \n",
              "2012               105.521341        4343786     74.232911  \n",
              "2013               140.299391        6292568     76.048559  \n",
              "2014                91.439604        6194576     84.695200  \n",
              "2015                97.180569        7512058     91.526007  \n",
              "2016               125.010562        7148604     91.899054  \n",
              "2017               127.459004        6653360     93.787136  \n",
              "2018                 9.362903           1161     54.455461  "
            ]
          },
          "metadata": {
            "tags": []
          },
          "execution_count": 57
        }
      ]
    },
    {
      "metadata": {
        "colab_type": "code",
        "id": "bsOIy4z9e4IS",
        "outputId": "7532dd2b-9508-4979-da63-c7994ee0f12c",
        "colab": {
          "base_uri": "https://localhost:8080/",
          "height": 315
        }
      },
      "cell_type": "code",
      "source": [
        "plt.style.use('fivethirtyeight')\n",
        "fig, ax = plt.subplots()\n",
        "data_byyear['count of projects'].plot(ax=ax,\n",
        "        kind='bar',\n",
        "        title = 'Projects by Year',legend=False);"
      ],
      "execution_count": 58,
      "outputs": [
        {
          "output_type": "display_data",
          "data": {
            "image/png": "[encoded data removed]",
            "text/plain": [
              "<matplotlib.figure.Figure at 0x7f4b41092128>"
            ]
          },
          "metadata": {
            "tags": []
          }
        }
      ]
    },
    {
      "metadata": {
        "colab_type": "text",
        "id": "jUlwK5I_VZ5Z"
      },
      "cell_type": "markdown",
      "source": [
        "We note that 2015 was a peak year for Kickstarter in terms of number of projects launched with almost 80,000 projects. We believe this is due to the fact that Kickstarter launched in 12 European countries in that year. From this data, it appears that there is a downward trend in the number of projects on the platform.\n",
        "\n",
        "\n"
      ]
    },
    {
      "metadata": {
        "colab_type": "code",
        "id": "o3gMHMkZ7dK8",
        "outputId": "b75151fa-f629-432c-b41f-39837a1b6467",
        "colab": {
          "base_uri": "https://localhost:8080/",
          "height": 315
        }
      },
      "cell_type": "code",
      "source": [
        "plt.style.use('fivethirtyeight')\n",
        "fig, ax = plt.subplots()\n",
        "data_byyear['total pledged ($mil)'].plot(ax=ax,\n",
        "        kind='bar',\n",
        "        title = 'Pledged($mil) by Year', legend=False);"
      ],
      "execution_count": 59,
      "outputs": [
        {
          "output_type": "display_data",
          "data": {
            "image/png": "[encoded data removed]",
            "text/plain": [
              "<matplotlib.figure.Figure at 0x7f4b41097a90>"
            ]
          },
          "metadata": {
            "tags": []
          }
        }
      ]
    },
    {
      "metadata": {
        "colab_type": "text",
        "id": "CTdY1_hlC9MI"
      },
      "cell_type": "markdown",
      "source": [
        "2015 was also a peak year in terms for funding. The platform rasied over $687 million in 2015."
      ]
    },
    {
      "metadata": {
        "colab_type": "code",
        "id": "lvpT4PTu_QeA",
        "outputId": "1c416a22-b36e-4df6-a0ce-e055b72e0b17",
        "colab": {
          "base_uri": "https://localhost:8080/",
          "height": 303
        }
      },
      "cell_type": "code",
      "source": [
        "plt.style.use('fivethirtyeight')\n",
        "fig, ax = plt.subplots()\n",
        "ax.set_ylabel('% success')\n",
        "ax.set_xlim(2009, 2017)\n",
        "ax.set_ylim(0, .5)\n",
        "data_byyear['% successful'].plot(ax=ax,\n",
        "        kind='line',\n",
        "        title = 'Success Rate by Year',legend=False);\n"
      ],
      "execution_count": 60,
      "outputs": [
        {
          "output_type": "display_data",
          "data": {
            "image/png": "[encoded data removed]",
            "text/plain": [
              "<matplotlib.figure.Figure at 0x7f4b40fa6588>"
            ]
          },
          "metadata": {
            "tags": []
          }
        }
      ]
    },
    {
      "metadata": {
        "colab_type": "text",
        "id": "EFuSV5nFhZ_-"
      },
      "cell_type": "markdown",
      "source": [
        "Interestingly, 2015 was the worst year for success on Kickstarter. Only 27% of projects met their fundraising goals in 2015 — the lowest  yearly success rate reflected in the data."
      ]
    },
    {
      "metadata": {
        "colab_type": "code",
        "id": "afXkCsyA1PUk",
        "colab": {}
      },
      "cell_type": "code",
      "source": [
        "success_fail = data.groupby(['launch_year','not_success'])['name'].size().unstack()\n",
        "success_fail = success_fail.drop([1970,2018])"
      ],
      "execution_count": 0,
      "outputs": []
    },
    {
      "metadata": {
        "colab_type": "code",
        "id": "a7lKLXri2-Ii",
        "outputId": "1ae8536e-7c13-4cb1-8de3-e486c032b35a",
        "colab": {
          "base_uri": "https://localhost:8080/",
          "height": 335
        }
      },
      "cell_type": "code",
      "source": [
        "plt.style.use('fivethirtyeight')\n",
        "fig, ax = plt.subplots()\n",
        "success_fail.plot(ax=ax,\n",
        "        kind='bar',stacked = True, legend=True, title = 'Success and Not_Success by Year')\n",
        "\n",
        "plt.legend(['success','not_success']);"
      ],
      "execution_count": 62,
      "outputs": [
        {
          "output_type": "display_data",
          "data": {
            "image/png": "[encoded data removed]",
            "text/plain": [
              "<matplotlib.figure.Figure at 0x7f4b40f97710>"
            ]
          },
          "metadata": {
            "tags": []
          }
        }
      ]
    },
    {
      "metadata": {
        "colab_type": "text",
        "id": "YkOu0v0uDLyY"
      },
      "cell_type": "markdown",
      "source": [
        "**The takeaway: the number of successful projects has stayed relatively level over time. In 2015, the number of failed projects increased, which lowered the overall success rate — despite the fact that more dollars were raised in 2015 than in any other year.**"
      ]
    },
    {
      "metadata": {
        "colab_type": "code",
        "id": "q3y8XRDHBaAo",
        "outputId": "a3faf02c-1a03-460e-e2d1-bcad47cd4aae",
        "colab": {
          "base_uri": "https://localhost:8080/",
          "height": 302
        }
      },
      "cell_type": "code",
      "source": [
        "plt.style.use('fivethirtyeight')\n",
        "fig, ax = plt.subplots()\n",
        "ax.set_ylabel('pledged/goal')\n",
        "ax.set_xlim(2009, 2017)\n",
        "data_byyear['avg pledged to goal ratio'].plot(ax=ax,\n",
        "        kind='line',\n",
        "        title = 'Average Pledged vs. Goal',legend=False);"
      ],
      "execution_count": 63,
      "outputs": [
        {
          "output_type": "display_data",
          "data": {
            "image/png": "[encoded data removed]",
            "text/plain": [
              "<matplotlib.figure.Figure at 0x7f4b40ed5be0>"
            ]
          },
          "metadata": {
            "tags": []
          }
        }
      ]
    },
    {
      "metadata": {
        "colab_type": "text",
        "id": "LU4XP1oiAz_w"
      },
      "cell_type": "markdown",
      "source": [
        "Average pledged to goal ratios are all over the map. This is likely because some very successful projects lift the average above 1 (as we saw earlier in this analysis), despite the fact that most projects on Kickstarter fail.\n",
        "\n",
        "**The takeaway: average pledged to goal ratios are more indicative of very successful outliers than they are of average project performance.**"
      ]
    },
    {
      "metadata": {
        "colab_type": "code",
        "id": "LiCAptXsFi8X",
        "colab": {}
      },
      "cell_type": "code",
      "source": [
        "categorybyyear = data.groupby(['launch_year','main_category'])['count'].sum().unstack()\n",
        "categorybyyear = categorybyyear.drop([1970,2018])"
      ],
      "execution_count": 0,
      "outputs": []
    },
    {
      "metadata": {
        "colab_type": "text",
        "id": "gliiEPXCJMhX"
      },
      "cell_type": "markdown",
      "source": [
        "How has the popularity of categories of launched projects changed over time?"
      ]
    },
    {
      "metadata": {
        "colab_type": "code",
        "id": "jcC4ZxYqFlGf",
        "outputId": "0fb7d268-641f-4c74-8dd6-e2a4dbcc9c3d",
        "colab": {
          "base_uri": "https://localhost:8080/",
          "height": 601
        }
      },
      "cell_type": "code",
      "source": [
        "ig, ax = plt.subplots(figsize=(9,8))     \n",
        "sns.heatmap(categorybyyear, cmap=\"Reds\")\n",
        "plt.title('Launched Projects by Main Category over Time');"
      ],
      "execution_count": 65,
      "outputs": [
        {
          "output_type": "display_data",
          "data": {
            "image/png": "[encoded data removed]",
            "text/plain": [
              "<matplotlib.figure.Figure at 0x7f4b40f9b860>"
            ]
          },
          "metadata": {
            "tags": []
          }
        }
      ]
    },
    {
      "metadata": {
        "colab_type": "text",
        "id": "2lgBBqcMKlHG"
      },
      "cell_type": "markdown",
      "source": [
        "Film & Video has been the most popular category overall (as seen above), but in 2016 and 2017, the popularity of this category has subsided somewhat. Technology and Games have increased in popularity over time."
      ]
    },
    {
      "metadata": {
        "colab_type": "text",
        "id": "_Js-Aw_KJoUc"
      },
      "cell_type": "markdown",
      "source": [
        "##  Understanding Success vs. Failure on Kickstarter"
      ]
    },
    {
      "metadata": {
        "colab_type": "text",
        "id": "HC6GqXdgR9J1"
      },
      "cell_type": "markdown",
      "source": [
        "#### Category\n",
        "Are there particular categories that experience more success?"
      ]
    },
    {
      "metadata": {
        "colab_type": "code",
        "id": "D65QrdEvF6Kq",
        "outputId": "8fc6c03e-71f7-4666-a615-129fbf68a141",
        "colab": {
          "base_uri": "https://localhost:8080/",
          "height": 485
        }
      },
      "cell_type": "code",
      "source": [
        "success_fail_bycategory = data.groupby(['main_category','not_success'])['count'].sum().unstack()\n",
        "plt.style.use('fivethirtyeight')\n",
        "fig, ax = plt.subplots(figsize=(6,6))\n",
        "success_fail_bycategory.plot(ax=ax,\n",
        "        kind='bar',stacked = True, legend=True, title = 'Success and Not_Success by Main Category')\n",
        "\n",
        "plt.legend(['success','not_success']);"
      ],
      "execution_count": 66,
      "outputs": [
        {
          "output_type": "display_data",
          "data": {
            "image/png": "[encoded data removed]",
            "text/plain": [
              "<matplotlib.figure.Figure at 0x7f4b40e0b780>"
            ]
          },
          "metadata": {
            "tags": []
          }
        }
      ]
    },
    {
      "metadata": {
        "colab_type": "text",
        "id": "rVvYB_zRHHDw"
      },
      "cell_type": "markdown",
      "source": [
        "Based on this graph, we can see that some categories are more successful overall than others. Film & Video for example, along with Music, have higher ratios of successful to not successful projects. Technology and Fashion, on the other hand, are comprised of many more failed projects than successful ones."
      ]
    },
    {
      "metadata": {
        "colab_type": "text",
        "id": "PgNA4sIRHe20"
      },
      "cell_type": "markdown",
      "source": [
        "We can also analyze success by category over time."
      ]
    },
    {
      "metadata": {
        "colab_type": "code",
        "id": "oyj5EKaILXZz",
        "colab": {}
      },
      "cell_type": "code",
      "source": [
        "data_successes_category = data_successes.groupby(['launch_year','main_category'])['count'].sum().unstack()"
      ],
      "execution_count": 0,
      "outputs": []
    },
    {
      "metadata": {
        "colab_type": "code",
        "id": "BQOqN2YFLvQ-",
        "outputId": "da5d6c4c-bf76-4714-d011-d8243072c529",
        "colab": {
          "base_uri": "https://localhost:8080/",
          "height": 445
        }
      },
      "cell_type": "code",
      "source": [
        "ig, ax = plt.subplots(figsize=(10,5))     \n",
        "sns.heatmap(data_successes_category, cmap=\"Reds\");\n",
        "plt.title('Success by Main Category over Time')"
      ],
      "execution_count": 68,
      "outputs": [
        {
          "output_type": "execute_result",
          "data": {
            "text/plain": [
              "Text(0.5,1,'Success by Main Category over Time')"
            ]
          },
          "metadata": {
            "tags": []
          },
          "execution_count": 68
        },
        {
          "output_type": "display_data",
          "data": {
            "image/png": "[encoded data removed]",
            "text/plain": [
              "<matplotlib.figure.Figure at 0x7f4b41097e80>"
            ]
          },
          "metadata": {
            "tags": []
          }
        }
      ]
    },
    {
      "metadata": {
        "colab_type": "text",
        "id": "E_wNLqX3L7o-"
      },
      "cell_type": "markdown",
      "source": [
        "Most successful projects are in Film & Video and Music. Recently, the Games category has also experienced some success. "
      ]
    },
    {
      "metadata": {
        "colab_type": "text",
        "id": "haHJrU_xdVYa"
      },
      "cell_type": "markdown",
      "source": [
        "Are there particular categories that experience more failure?"
      ]
    },
    {
      "metadata": {
        "colab_type": "code",
        "id": "sEuzHWejclGi",
        "colab": {}
      },
      "cell_type": "code",
      "source": [
        "data_failures_category = data_failures.groupby(['launch_year','main_category'])['count'].sum().unstack()"
      ],
      "execution_count": 0,
      "outputs": []
    },
    {
      "metadata": {
        "colab_type": "code",
        "id": "4DKtvSYLcrGJ",
        "outputId": "78755dce-266a-4b54-e793-aa769236ebca",
        "colab": {
          "base_uri": "https://localhost:8080/",
          "height": 445
        }
      },
      "cell_type": "code",
      "source": [
        "ig, ax = plt.subplots(figsize=(10,5))     \n",
        "sns.heatmap(data_failures_category, cmap=\"Reds\");\n",
        "plt.title('Failure by Main Category over Time')"
      ],
      "execution_count": 70,
      "outputs": [
        {
          "output_type": "execute_result",
          "data": {
            "text/plain": [
              "Text(0.5,1,'Failure by Main Category over Time')"
            ]
          },
          "metadata": {
            "tags": []
          },
          "execution_count": 70
        },
        {
          "output_type": "display_data",
          "data": {
            "image/png": "[encoded data removed]",
            "text/plain": [
              "<matplotlib.figure.Figure at 0x7f4b40bdeac8>"
            ]
          },
          "metadata": {
            "tags": []
          }
        }
      ]
    },
    {
      "metadata": {
        "colab_type": "text",
        "id": "P0AWGQzBczLr"
      },
      "cell_type": "markdown",
      "source": [
        "Interestingly, the Film & Video category also sees the most failed projects. We believe that this is because Film & Video is the most popular category in general on Kickstarter. Both Publishing & Music also see a lot of failed projects — though not nearly as many as Film & Video."
      ]
    },
    {
      "metadata": {
        "colab_type": "text",
        "id": "zs9xatOAGQS4"
      },
      "cell_type": "markdown",
      "source": [
        "How much funding is delivered (for successful projects) vs. returned (for failed projects)? \n",
        "\n",
        "*Note: Pledges for projects that don't meet their funding goals are returned to the backers.*"
      ]
    },
    {
      "metadata": {
        "colab_type": "code",
        "id": "PeZPdvNKGNlq",
        "outputId": "963c3a9c-e71e-476a-9add-d500bf25facb",
        "colab": {
          "base_uri": "https://localhost:8080/",
          "height": 485
        }
      },
      "cell_type": "code",
      "source": [
        "category_funding_s = data_successes.groupby(['main_category'])['usd_pledged_actual'].sum()\n",
        "category_funding_f = data_failures.groupby(['main_category'])['usd_pledged_actual'].sum()\n",
        "pledged_total_sf = pd.DataFrame(category_funding_s).rename(\n",
        "    columns = {'usd_pledged_actual':'Success Pledged Total'}).merge(\n",
        "    pd.DataFrame(category_funding_f).rename(columns ={'usd_pledged_actual':'Failure Pledged Total'}),\n",
        "    left_index = True, right_index = True)\n",
        "plt.style.use('fivethirtyeight')\n",
        "fig, ax = plt.subplots(figsize=(6,6))\n",
        "pledged_total_sf.plot(ax=ax,\n",
        "        kind='bar', stacked = True, title = 'Pledged by Category');"
      ],
      "execution_count": 71,
      "outputs": [
        {
          "output_type": "display_data",
          "data": {
            "image/png": "[encoded data removed]",
            "text/plain": [
              "<matplotlib.figure.Figure at 0x7f4b40bdef60>"
            ]
          },
          "metadata": {
            "tags": []
          }
        }
      ]
    },
    {
      "metadata": {
        "colab_type": "text",
        "id": "2h9YtQxxGoso"
      },
      "cell_type": "markdown",
      "source": [
        "From this plot, which shows the ratio of delivered dollars to returned dollars ($mill), we can see that the majority of Kickstarter is in fact delivered to successful projects. Projects that receive less total pledged dollars tend to have a higher ratio of delivered to returned dollars. For example, the ratio for Comics is higher than that for Film & Video. This is not surprising the low product costs of Comics relative to Film & Video. This ratio does not take into account the volume of the ask for a given project or category. In future analysis, we would suggest normalizing the data by controlling for volume. "
      ]
    },
    {
      "metadata": {
        "colab_type": "text",
        "id": "4IMbPHYISAgt"
      },
      "cell_type": "markdown",
      "source": [
        "#### Backers\n",
        "What is the relationship between the number of backers and the amount of money pledged?"
      ]
    },
    {
      "metadata": {
        "colab_type": "code",
        "id": "muYHlRx828Y2",
        "outputId": "41107161-e591-4193-fefd-d808626d9c13",
        "colab": {
          "base_uri": "https://localhost:8080/",
          "height": 472
        }
      },
      "cell_type": "code",
      "source": [
        "d3 = smf.ols('usd_pledged_actual~ backers', data=data)\n",
        "d4 = d3.fit()\n",
        "print(d4.summary())\n",
        "                                               "
      ],
      "execution_count": 72,
      "outputs": [
        {
          "output_type": "stream",
          "text": [
            "                            OLS Regression Results                            \n",
            "==============================================================================\n",
            "Dep. Variable:     usd_pledged_actual   R-squared:                       0.566\n",
            "Model:                            OLS   Adj. R-squared:                  0.566\n",
            "Method:                 Least Squares   F-statistic:                 4.945e+05\n",
            "Date:                Fri, 21 Dec 2018   Prob (F-statistic):               0.00\n",
            "Time:                        16:18:56   Log-Likelihood:            -4.7028e+06\n",
            "No. Observations:              378661   AIC:                         9.406e+06\n",
            "Df Residuals:                  378659   BIC:                         9.406e+06\n",
            "Df Model:                           1                                         \n",
            "Covariance Type:            nonrobust                                         \n",
            "==============================================================================\n",
            "                 coef    std err          t      P>|t|      [0.025      0.975]\n",
            "------------------------------------------------------------------------------\n",
            "Intercept   1088.4658     98.017     11.105      0.000     896.356    1280.576\n",
            "backers       75.4653      0.107    703.180      0.000      75.255      75.676\n",
            "==============================================================================\n",
            "Omnibus:                  1374068.861   Durbin-Watson:                   1.999\n",
            "Prob(Omnibus):                  0.000   Jarque-Bera (JB):    3888415770405.230\n",
            "Skew:                          74.940   Prob(JB):                         0.00\n",
            "Kurtosis:                   15701.093   Cond. No.                         919.\n",
            "==============================================================================\n",
            "\n",
            "Warnings:\n",
            "[1] Standard Errors assume that the covariance matrix of the errors is correctly specified.\n"
          ],
          "name": "stdout"
        }
      ]
    },
    {
      "metadata": {
        "colab_type": "code",
        "id": "I_ejSy6Xx-5-",
        "outputId": "462c5aa0-aae3-4d57-f468-48dd37464021",
        "colab": {
          "base_uri": "https://localhost:8080/",
          "height": 325
        }
      },
      "cell_type": "code",
      "source": [
        "fig = plt.figure(figsize=(12, 8))\n",
        "fig = sm.graphics.plot_ccpr_grid(d4, fig=fig)"
      ],
      "execution_count": 73,
      "outputs": [
        {
          "output_type": "display_data",
          "data": {
            "image/png": "[encoded data removed]",
            "text/plain": [
              "<matplotlib.figure.Figure at 0x7f4b40c29358>"
            ]
          },
          "metadata": {
            "tags": []
          }
        }
      ]
    },
    {
      "metadata": {
        "colab_type": "text",
        "id": "d1ZiM_BbxYbO"
      },
      "cell_type": "markdown",
      "source": [
        "There appears to be a positive relationship between the number of backers and the amount pledged. For every 1 additional backer, the pledged amount (per backer) should increase by $75 USD. "
      ]
    },
    {
      "metadata": {
        "colab_type": "text",
        "id": "cd0dOSXTSIxO"
      },
      "cell_type": "markdown",
      "source": [
        "#### Launch Month\n",
        "What is the relationship between launch month and success or failure?"
      ]
    },
    {
      "metadata": {
        "colab_type": "code",
        "id": "Bfbes-_sOfDO",
        "outputId": "223a88be-1fae-4310-b087-dd0906988712",
        "colab": {
          "base_uri": "https://localhost:8080/",
          "height": 361
        }
      },
      "cell_type": "code",
      "source": [
        "success_months = data_successes['launch_month'].value_counts().rename('successes').sort_index()\n",
        "not_success_months = data_failures['launch_month'].value_counts().rename('not_success').sort_index()\n",
        "succes_fail_month = pd.concat([success_months,not_success_months], axis=1, join='inner')\n",
        "succes_fail_month.plot(figsize=(10, 5), legend=True, title='Success & Failure by Launch Month');"
      ],
      "execution_count": 74,
      "outputs": [
        {
          "output_type": "display_data",
          "data": {
            "image/png": "[encoded data removed]",
            "text/plain": [
              "<matplotlib.figure.Figure at 0x7f4b409e69e8>"
            ]
          },
          "metadata": {
            "tags": []
          }
        }
      ]
    },
    {
      "metadata": {
        "colab_type": "text",
        "id": "Ff5Il0szZbf6"
      },
      "cell_type": "markdown",
      "source": [
        "From the above chart, it appears that the month of project launch doesn't impact successful projects as much as it does failed projects, especially in the month of July where the spread is the largest. The code for this graph was taken from [here](https://www.kaggle.com/damirkh/where-and-when-to-kickstart). We felt this graph was relevant to include because we wanted to supplement the above graph with a visual representation showing the sharp increase in the number of failures in July."
      ]
    },
    {
      "metadata": {
        "colab_type": "text",
        "id": "OilO5N-GCsCn"
      },
      "cell_type": "markdown",
      "source": [
        "To further analyze this sharp increase in failures in July, we looked at success vs. failure on a year by year basis and discovered that 2014 was the outlier."
      ]
    },
    {
      "metadata": {
        "colab_type": "code",
        "id": "jN6mtaZnBZvf",
        "colab": {}
      },
      "cell_type": "code",
      "source": [
        "data_2014 = data.loc[data['launch_year'] == 2014]"
      ],
      "execution_count": 0,
      "outputs": []
    },
    {
      "metadata": {
        "colab_type": "code",
        "id": "MPiWmITjBwcb",
        "outputId": "231881b2-7d84-4141-9479-212307ac7275",
        "colab": {
          "base_uri": "https://localhost:8080/",
          "height": 439
        }
      },
      "cell_type": "code",
      "source": [
        "success_fail_bymonth_2014 = data_2014.groupby(['launch_month','not_success'])['count'].sum().unstack()\n",
        "plt.style.use('fivethirtyeight')\n",
        "fig, ax = plt.subplots(figsize=(6,6))\n",
        "success_fail_bymonth_2014.plot(ax=ax,\n",
        "        kind='bar',stacked = True, legend=True, title = 'Success and Not_Success by Month (2014)')\n",
        "\n",
        "plt.legend(['success','not_success']);\n"
      ],
      "execution_count": 77,
      "outputs": [
        {
          "output_type": "display_data",
          "data": {
            "image/png": "[encoded data removed]",
            "text/plain": [
              "<matplotlib.figure.Figure at 0x7f4b40c57358>"
            ]
          },
          "metadata": {
            "tags": []
          }
        }
      ]
    },
    {
      "metadata": {
        "colab_type": "text",
        "id": "yk1oJIq4C3WS"
      },
      "cell_type": "markdown",
      "source": [
        "We can see from the above graph that July 2014 saw an atypical spike in failed launches. This explains the bump in failed projects in July in the above line graph."
      ]
    },
    {
      "metadata": {
        "colab_type": "text",
        "id": "vIc3DnigSDz_"
      },
      "cell_type": "markdown",
      "source": [
        "#### Country\n",
        "Does the country of origin impact success or failure?"
      ]
    },
    {
      "metadata": {
        "colab_type": "code",
        "id": "gPOo7oMacQuC",
        "outputId": "0934749f-2c89-4959-dacf-5aa8d1552965",
        "colab": {
          "base_uri": "https://localhost:8080/",
          "height": 447
        }
      },
      "cell_type": "code",
      "source": [
        "success_fail_bycountry = data.groupby(['country','not_success'])['count'].sum().unstack()\n",
        "plt.style.use('fivethirtyeight')\n",
        "fig, ax = plt.subplots(figsize=(6,6))\n",
        "success_fail_bycountry.plot(ax=ax,\n",
        "        kind='bar',stacked = True, legend=True, title = 'Success and Not_Success by Country')\n",
        "\n",
        "plt.legend(['success','not_success']);"
      ],
      "execution_count": 78,
      "outputs": [
        {
          "output_type": "display_data",
          "data": {
            "image/png": "[encoded data removed]",
            "text/plain": [
              "<matplotlib.figure.Figure at 0x7f4b408ee550>"
            ]
          },
          "metadata": {
            "tags": []
          }
        }
      ]
    },
    {
      "metadata": {
        "colab_type": "text",
        "id": "DbGMMzT9Hgfq"
      },
      "cell_type": "markdown",
      "source": [
        "This data indicates that slightly over 1/3 of projects fail in the United States, and that this trend generally holds for Great Britain and Canada, the next two largest countries. Again, we can drop the United States from the data to get a better idea of which countries have greater rates of success. "
      ]
    },
    {
      "metadata": {
        "colab_type": "code",
        "id": "kNWogienIIsH",
        "outputId": "8c02459d-1de8-4ad3-ebfb-c0c76c213741",
        "colab": {
          "base_uri": "https://localhost:8080/",
          "height": 447
        }
      },
      "cell_type": "code",
      "source": [
        "success_fail_bycountry_woUS = data_woUS.groupby(['country','not_success'])['count'].sum().unstack()\n",
        "plt.style.use('fivethirtyeight')\n",
        "fig, ax = plt.subplots(figsize=(6,6))\n",
        "success_fail_bycountry_woUS.plot(ax=ax,\n",
        "        kind='bar',stacked = True, legend=True, title = 'Success and Not_Success by Country')\n",
        "\n",
        "plt.legend(['success','not_success']);"
      ],
      "execution_count": 79,
      "outputs": [
        {
          "output_type": "display_data",
          "data": {
            "image/png": "[encoded data removed]",
            "text/plain": [
              "<matplotlib.figure.Figure at 0x7f4b408ee6a0>"
            ]
          },
          "metadata": {
            "tags": []
          }
        }
      ]
    },
    {
      "metadata": {
        "colab_type": "text",
        "id": "NS2inwt1bEIx"
      },
      "cell_type": "markdown",
      "source": [
        "From the above, we can see that the approximately 1/3 ratio of success to failure holds across most countries. Some countries, like Norway, have high failure rates. "
      ]
    },
    {
      "metadata": {
        "colab_type": "text",
        "id": "KXg--TKJKmhs"
      },
      "cell_type": "markdown",
      "source": [
        "## Understanding \"Successful\" Projects\n",
        "\n",
        "What defines an extremely successful project? It could be defined in two ways: 1. by projects that exceed their fundraising goals by a large multiple or 2. by projects succeed in rasing a large amount of money."
      ]
    },
    {
      "metadata": {
        "colab_type": "text",
        "id": "qNvm6bOO_QT1"
      },
      "cell_type": "markdown",
      "source": [
        "The below table shows why option is not always ideal. We note that all of the goals for 90% of the projects with the 10 largest pledged to goal ratios are 1 dollar. Exceeding 1 dollar by a large margin is not a notable accomplishment."
      ]
    },
    {
      "metadata": {
        "colab_type": "code",
        "id": "f9SgOU94JKRt",
        "outputId": "e6f3bb4f-c4c0-4e13-e5db-28436bfddc47",
        "colab": {
          "base_uri": "https://localhost:8080/",
          "height": 812
        }
      },
      "cell_type": "code",
      "source": [
        "data_successes.nlargest(10, 'usd_pledged_to_goal')"
      ],
      "execution_count": 80,
      "outputs": [
        {
          "output_type": "execute_result",
          "data": {
            "text/html": [
              "<div>\n",
              "<style scoped>\n",
              "    .dataframe tbody tr th:only-of-type {\n",
              "        vertical-align: middle;\n",
              "    }\n",
              "\n",
              "    .dataframe tbody tr th {\n",
              "        vertical-align: top;\n",
              "    }\n",
              "\n",
              "    .dataframe thead th {\n",
              "        text-align: right;\n",
              "    }\n",
              "</style>\n",
              "<table border=\"1\" class=\"dataframe\">\n",
              "  <thead>\n",
              "    <tr style=\"text-align: right;\">\n",
              "      <th></th>\n",
              "      <th>ID</th>\n",
              "      <th>name</th>\n",
              "      <th>category</th>\n",
              "      <th>main_category</th>\n",
              "      <th>currency</th>\n",
              "      <th>deadline</th>\n",
              "      <th>goal</th>\n",
              "      <th>launched</th>\n",
              "      <th>pledged</th>\n",
              "      <th>state</th>\n",
              "      <th>...</th>\n",
              "      <th>country</th>\n",
              "      <th>usd_pledged_actual</th>\n",
              "      <th>usd_goal</th>\n",
              "      <th>usd_pledged_to_goal</th>\n",
              "      <th>launch_month_year</th>\n",
              "      <th>launch_year</th>\n",
              "      <th>launch_month</th>\n",
              "      <th>success</th>\n",
              "      <th>not_success</th>\n",
              "      <th>count</th>\n",
              "    </tr>\n",
              "  </thead>\n",
              "  <tbody>\n",
              "    <tr>\n",
              "      <th>369176</th>\n",
              "      <td>9509582</td>\n",
              "      <td>VULFPECK /// The Beautiful Game</td>\n",
              "      <td>Music</td>\n",
              "      <td>Music</td>\n",
              "      <td>USD</td>\n",
              "      <td>2016-10-17</td>\n",
              "      <td>1.0</td>\n",
              "      <td>2016-08-18 09:04:03</td>\n",
              "      <td>104277.89</td>\n",
              "      <td>successful</td>\n",
              "      <td>...</td>\n",
              "      <td>US</td>\n",
              "      <td>104277.89</td>\n",
              "      <td>1.00</td>\n",
              "      <td>104277.89000</td>\n",
              "      <td>2016-08</td>\n",
              "      <td>2016</td>\n",
              "      <td>8</td>\n",
              "      <td>1</td>\n",
              "      <td>0</td>\n",
              "      <td>1</td>\n",
              "    </tr>\n",
              "    <tr>\n",
              "      <th>186096</th>\n",
              "      <td>1947298033</td>\n",
              "      <td>Re-covering with Friends</td>\n",
              "      <td>Rock</td>\n",
              "      <td>Music</td>\n",
              "      <td>USD</td>\n",
              "      <td>2016-12-13</td>\n",
              "      <td>1.0</td>\n",
              "      <td>2016-10-14 19:04:27</td>\n",
              "      <td>68764.10</td>\n",
              "      <td>successful</td>\n",
              "      <td>...</td>\n",
              "      <td>US</td>\n",
              "      <td>68764.10</td>\n",
              "      <td>1.00</td>\n",
              "      <td>68764.10000</td>\n",
              "      <td>2016-10</td>\n",
              "      <td>2016</td>\n",
              "      <td>10</td>\n",
              "      <td>1</td>\n",
              "      <td>0</td>\n",
              "      <td>1</td>\n",
              "    </tr>\n",
              "    <tr>\n",
              "      <th>360721</th>\n",
              "      <td>907870443</td>\n",
              "      <td>VULFPECK /// Thrill of the Arts</td>\n",
              "      <td>Music</td>\n",
              "      <td>Music</td>\n",
              "      <td>USD</td>\n",
              "      <td>2015-10-09</td>\n",
              "      <td>1.0</td>\n",
              "      <td>2015-08-10 19:31:56</td>\n",
              "      <td>55266.57</td>\n",
              "      <td>successful</td>\n",
              "      <td>...</td>\n",
              "      <td>US</td>\n",
              "      <td>55266.57</td>\n",
              "      <td>1.00</td>\n",
              "      <td>55266.57000</td>\n",
              "      <td>2015-08</td>\n",
              "      <td>2015</td>\n",
              "      <td>8</td>\n",
              "      <td>1</td>\n",
              "      <td>0</td>\n",
              "      <td>1</td>\n",
              "    </tr>\n",
              "    <tr>\n",
              "      <th>76290</th>\n",
              "      <td>1388400809</td>\n",
              "      <td>Energy Hook</td>\n",
              "      <td>Video Games</td>\n",
              "      <td>Games</td>\n",
              "      <td>USD</td>\n",
              "      <td>2013-06-10</td>\n",
              "      <td>1.0</td>\n",
              "      <td>2013-05-10 01:22:38</td>\n",
              "      <td>41535.01</td>\n",
              "      <td>successful</td>\n",
              "      <td>...</td>\n",
              "      <td>US</td>\n",
              "      <td>41535.01</td>\n",
              "      <td>1.00</td>\n",
              "      <td>41535.01000</td>\n",
              "      <td>2013-05</td>\n",
              "      <td>2013</td>\n",
              "      <td>5</td>\n",
              "      <td>1</td>\n",
              "      <td>0</td>\n",
              "      <td>1</td>\n",
              "    </tr>\n",
              "    <tr>\n",
              "      <th>81368</th>\n",
              "      <td>1413857335</td>\n",
              "      <td>Band of Brothers 2nd Chance</td>\n",
              "      <td>Tabletop Games</td>\n",
              "      <td>Games</td>\n",
              "      <td>USD</td>\n",
              "      <td>2016-08-02</td>\n",
              "      <td>1.0</td>\n",
              "      <td>2016-07-12 00:29:12</td>\n",
              "      <td>32843.00</td>\n",
              "      <td>successful</td>\n",
              "      <td>...</td>\n",
              "      <td>US</td>\n",
              "      <td>32843.00</td>\n",
              "      <td>1.00</td>\n",
              "      <td>32843.00000</td>\n",
              "      <td>2016-07</td>\n",
              "      <td>2016</td>\n",
              "      <td>7</td>\n",
              "      <td>1</td>\n",
              "      <td>0</td>\n",
              "      <td>1</td>\n",
              "    </tr>\n",
              "    <tr>\n",
              "      <th>285408</th>\n",
              "      <td>521903377</td>\n",
              "      <td>CLOCKWRIGHT: Large-Scale Analogue Time Machines</td>\n",
              "      <td>Sculpture</td>\n",
              "      <td>Art</td>\n",
              "      <td>USD</td>\n",
              "      <td>2016-01-13</td>\n",
              "      <td>1.0</td>\n",
              "      <td>2015-12-14 12:57:33</td>\n",
              "      <td>27588.23</td>\n",
              "      <td>successful</td>\n",
              "      <td>...</td>\n",
              "      <td>US</td>\n",
              "      <td>27588.23</td>\n",
              "      <td>1.00</td>\n",
              "      <td>27588.23000</td>\n",
              "      <td>2015-12</td>\n",
              "      <td>2015</td>\n",
              "      <td>12</td>\n",
              "      <td>1</td>\n",
              "      <td>0</td>\n",
              "      <td>1</td>\n",
              "    </tr>\n",
              "    <tr>\n",
              "      <th>369214</th>\n",
              "      <td>951161619</td>\n",
              "      <td>Heartbreak Hits â Theo Katzman's Second LP</td>\n",
              "      <td>Music</td>\n",
              "      <td>Music</td>\n",
              "      <td>USD</td>\n",
              "      <td>2017-01-03</td>\n",
              "      <td>1.0</td>\n",
              "      <td>2016-11-04 15:52:18</td>\n",
              "      <td>24675.00</td>\n",
              "      <td>successful</td>\n",
              "      <td>...</td>\n",
              "      <td>US</td>\n",
              "      <td>24675.00</td>\n",
              "      <td>1.00</td>\n",
              "      <td>24675.00000</td>\n",
              "      <td>2016-11</td>\n",
              "      <td>2016</td>\n",
              "      <td>11</td>\n",
              "      <td>1</td>\n",
              "      <td>0</td>\n",
              "      <td>1</td>\n",
              "    </tr>\n",
              "    <tr>\n",
              "      <th>290936</th>\n",
              "      <td>550443638</td>\n",
              "      <td>Penny Arcade's Podcast, \"Downloadable Content\"...</td>\n",
              "      <td>Radio &amp; Podcasts</td>\n",
              "      <td>Publishing</td>\n",
              "      <td>USD</td>\n",
              "      <td>2013-05-31</td>\n",
              "      <td>10.0</td>\n",
              "      <td>2013-05-08 20:02:14</td>\n",
              "      <td>230360.67</td>\n",
              "      <td>successful</td>\n",
              "      <td>...</td>\n",
              "      <td>US</td>\n",
              "      <td>230360.67</td>\n",
              "      <td>10.00</td>\n",
              "      <td>23036.06700</td>\n",
              "      <td>2013-05</td>\n",
              "      <td>2013</td>\n",
              "      <td>5</td>\n",
              "      <td>1</td>\n",
              "      <td>0</td>\n",
              "      <td>1</td>\n",
              "    </tr>\n",
              "    <tr>\n",
              "      <th>15288</th>\n",
              "      <td>1077219132</td>\n",
              "      <td>THE 'mi8' RISES | The Best Wireless Duo Stereo...</td>\n",
              "      <td>Hardware</td>\n",
              "      <td>Technology</td>\n",
              "      <td>USD</td>\n",
              "      <td>2016-10-13</td>\n",
              "      <td>1.0</td>\n",
              "      <td>2016-09-13 18:03:12</td>\n",
              "      <td>22603.00</td>\n",
              "      <td>successful</td>\n",
              "      <td>...</td>\n",
              "      <td>US</td>\n",
              "      <td>22603.00</td>\n",
              "      <td>1.00</td>\n",
              "      <td>22603.00000</td>\n",
              "      <td>2016-09</td>\n",
              "      <td>2016</td>\n",
              "      <td>9</td>\n",
              "      <td>1</td>\n",
              "      <td>0</td>\n",
              "      <td>1</td>\n",
              "    </tr>\n",
              "    <tr>\n",
              "      <th>164449</th>\n",
              "      <td>1836862932</td>\n",
              "      <td>CO-OP THE GAME (Canceled)</td>\n",
              "      <td>Video Games</td>\n",
              "      <td>Games</td>\n",
              "      <td>CAD</td>\n",
              "      <td>2013-10-14</td>\n",
              "      <td>1.0</td>\n",
              "      <td>2013-09-09 23:15:12</td>\n",
              "      <td>16949.00</td>\n",
              "      <td>canceled</td>\n",
              "      <td>...</td>\n",
              "      <td>CA</td>\n",
              "      <td>16461.73</td>\n",
              "      <td>0.97</td>\n",
              "      <td>16970.85567</td>\n",
              "      <td>2013-09</td>\n",
              "      <td>2013</td>\n",
              "      <td>9</td>\n",
              "      <td>0</td>\n",
              "      <td>1</td>\n",
              "      <td>1</td>\n",
              "    </tr>\n",
              "  </tbody>\n",
              "</table>\n",
              "<p>10 rows × 21 columns</p>\n",
              "</div>"
            ],
            "text/plain": [
              "                ID                                               name  \\\n",
              "369176     9509582                    VULFPECK /// The Beautiful Game   \n",
              "186096  1947298033                           Re-covering with Friends   \n",
              "360721   907870443                    VULFPECK /// Thrill of the Arts   \n",
              "76290   1388400809                                        Energy Hook   \n",
              "81368   1413857335                        Band of Brothers 2nd Chance   \n",
              "285408   521903377    CLOCKWRIGHT: Large-Scale Analogue Time Machines   \n",
              "369214   951161619       Heartbreak Hits â Theo Katzman's Second LP   \n",
              "290936   550443638  Penny Arcade's Podcast, \"Downloadable Content\"...   \n",
              "15288   1077219132  THE 'mi8' RISES | The Best Wireless Duo Stereo...   \n",
              "164449  1836862932                          CO-OP THE GAME (Canceled)   \n",
              "\n",
              "                category main_category currency    deadline  goal  \\\n",
              "369176             Music         Music      USD  2016-10-17   1.0   \n",
              "186096              Rock         Music      USD  2016-12-13   1.0   \n",
              "360721             Music         Music      USD  2015-10-09   1.0   \n",
              "76290        Video Games         Games      USD  2013-06-10   1.0   \n",
              "81368     Tabletop Games         Games      USD  2016-08-02   1.0   \n",
              "285408         Sculpture           Art      USD  2016-01-13   1.0   \n",
              "369214             Music         Music      USD  2017-01-03   1.0   \n",
              "290936  Radio & Podcasts    Publishing      USD  2013-05-31  10.0   \n",
              "15288           Hardware    Technology      USD  2016-10-13   1.0   \n",
              "164449       Video Games         Games      CAD  2013-10-14   1.0   \n",
              "\n",
              "                  launched    pledged       state  ...    country  \\\n",
              "369176 2016-08-18 09:04:03  104277.89  successful  ...         US   \n",
              "186096 2016-10-14 19:04:27   68764.10  successful  ...         US   \n",
              "360721 2015-08-10 19:31:56   55266.57  successful  ...         US   \n",
              "76290  2013-05-10 01:22:38   41535.01  successful  ...         US   \n",
              "81368  2016-07-12 00:29:12   32843.00  successful  ...         US   \n",
              "285408 2015-12-14 12:57:33   27588.23  successful  ...         US   \n",
              "369214 2016-11-04 15:52:18   24675.00  successful  ...         US   \n",
              "290936 2013-05-08 20:02:14  230360.67  successful  ...         US   \n",
              "15288  2016-09-13 18:03:12   22603.00  successful  ...         US   \n",
              "164449 2013-09-09 23:15:12   16949.00    canceled  ...         CA   \n",
              "\n",
              "       usd_pledged_actual  usd_goal  usd_pledged_to_goal  launch_month_year  \\\n",
              "369176          104277.89      1.00         104277.89000            2016-08   \n",
              "186096           68764.10      1.00          68764.10000            2016-10   \n",
              "360721           55266.57      1.00          55266.57000            2015-08   \n",
              "76290            41535.01      1.00          41535.01000            2013-05   \n",
              "81368            32843.00      1.00          32843.00000            2016-07   \n",
              "285408           27588.23      1.00          27588.23000            2015-12   \n",
              "369214           24675.00      1.00          24675.00000            2016-11   \n",
              "290936          230360.67     10.00          23036.06700            2013-05   \n",
              "15288            22603.00      1.00          22603.00000            2016-09   \n",
              "164449           16461.73      0.97          16970.85567            2013-09   \n",
              "\n",
              "       launch_year launch_month  success  not_success  count  \n",
              "369176        2016            8        1            0      1  \n",
              "186096        2016           10        1            0      1  \n",
              "360721        2015            8        1            0      1  \n",
              "76290         2013            5        1            0      1  \n",
              "81368         2016            7        1            0      1  \n",
              "285408        2015           12        1            0      1  \n",
              "369214        2016           11        1            0      1  \n",
              "290936        2013            5        1            0      1  \n",
              "15288         2016            9        1            0      1  \n",
              "164449        2013            9        0            1      1  \n",
              "\n",
              "[10 rows x 21 columns]"
            ]
          },
          "metadata": {
            "tags": []
          },
          "execution_count": 80
        }
      ]
    },
    {
      "metadata": {
        "colab_type": "text",
        "id": "W0Kvft3Y_69G"
      },
      "cell_type": "markdown",
      "source": [
        "Option 2 makes more sense. As we can see, the most successful project on Kickstarter is a smartwatch that raised $20,338,986 USD. "
      ]
    },
    {
      "metadata": {
        "colab_type": "code",
        "id": "qkaowBlo_0T9",
        "outputId": "5269a53f-9b7d-4b7e-e696-c5b5d0310571",
        "colab": {
          "base_uri": "https://localhost:8080/",
          "height": 933
        }
      },
      "cell_type": "code",
      "source": [
        "data_successes.nlargest(10, 'usd_pledged_actual')"
      ],
      "execution_count": 81,
      "outputs": [
        {
          "output_type": "execute_result",
          "data": {
            "text/html": [
              "<div>\n",
              "<style scoped>\n",
              "    .dataframe tbody tr th:only-of-type {\n",
              "        vertical-align: middle;\n",
              "    }\n",
              "\n",
              "    .dataframe tbody tr th {\n",
              "        vertical-align: top;\n",
              "    }\n",
              "\n",
              "    .dataframe thead th {\n",
              "        text-align: right;\n",
              "    }\n",
              "</style>\n",
              "<table border=\"1\" class=\"dataframe\">\n",
              "  <thead>\n",
              "    <tr style=\"text-align: right;\">\n",
              "      <th></th>\n",
              "      <th>ID</th>\n",
              "      <th>name</th>\n",
              "      <th>category</th>\n",
              "      <th>main_category</th>\n",
              "      <th>currency</th>\n",
              "      <th>deadline</th>\n",
              "      <th>goal</th>\n",
              "      <th>launched</th>\n",
              "      <th>pledged</th>\n",
              "      <th>state</th>\n",
              "      <th>...</th>\n",
              "      <th>country</th>\n",
              "      <th>usd_pledged_actual</th>\n",
              "      <th>usd_goal</th>\n",
              "      <th>usd_pledged_to_goal</th>\n",
              "      <th>launch_month_year</th>\n",
              "      <th>launch_year</th>\n",
              "      <th>launch_month</th>\n",
              "      <th>success</th>\n",
              "      <th>not_success</th>\n",
              "      <th>count</th>\n",
              "    </tr>\n",
              "  </thead>\n",
              "  <tbody>\n",
              "    <tr>\n",
              "      <th>157270</th>\n",
              "      <td>1799979574</td>\n",
              "      <td>Pebble Time - Awesome Smartwatch, No Compromises</td>\n",
              "      <td>Product Design</td>\n",
              "      <td>Design</td>\n",
              "      <td>USD</td>\n",
              "      <td>2015-03-28</td>\n",
              "      <td>500000.0</td>\n",
              "      <td>2015-02-24 15:44:42</td>\n",
              "      <td>20338986.27</td>\n",
              "      <td>successful</td>\n",
              "      <td>...</td>\n",
              "      <td>US</td>\n",
              "      <td>20338986.27</td>\n",
              "      <td>500000.0</td>\n",
              "      <td>40.677973</td>\n",
              "      <td>2015-02</td>\n",
              "      <td>2015</td>\n",
              "      <td>2</td>\n",
              "      <td>1</td>\n",
              "      <td>0</td>\n",
              "      <td>1</td>\n",
              "    </tr>\n",
              "    <tr>\n",
              "      <th>250254</th>\n",
              "      <td>342886736</td>\n",
              "      <td>COOLEST COOLER: 21st Century Cooler that's Act...</td>\n",
              "      <td>Product Design</td>\n",
              "      <td>Design</td>\n",
              "      <td>USD</td>\n",
              "      <td>2014-08-30</td>\n",
              "      <td>50000.0</td>\n",
              "      <td>2014-07-08 10:14:37</td>\n",
              "      <td>13285226.36</td>\n",
              "      <td>successful</td>\n",
              "      <td>...</td>\n",
              "      <td>US</td>\n",
              "      <td>13285226.36</td>\n",
              "      <td>50000.0</td>\n",
              "      <td>265.704527</td>\n",
              "      <td>2014-07</td>\n",
              "      <td>2014</td>\n",
              "      <td>7</td>\n",
              "      <td>1</td>\n",
              "      <td>0</td>\n",
              "      <td>1</td>\n",
              "    </tr>\n",
              "    <tr>\n",
              "      <th>216629</th>\n",
              "      <td>2103598555</td>\n",
              "      <td>Pebble 2, Time 2 + All-New Pebble Core</td>\n",
              "      <td>Product Design</td>\n",
              "      <td>Design</td>\n",
              "      <td>USD</td>\n",
              "      <td>2016-06-30</td>\n",
              "      <td>1000000.0</td>\n",
              "      <td>2016-05-24 15:49:52</td>\n",
              "      <td>12779843.49</td>\n",
              "      <td>successful</td>\n",
              "      <td>...</td>\n",
              "      <td>US</td>\n",
              "      <td>12779843.49</td>\n",
              "      <td>1000000.0</td>\n",
              "      <td>12.779843</td>\n",
              "      <td>2016-05</td>\n",
              "      <td>2016</td>\n",
              "      <td>5</td>\n",
              "      <td>1</td>\n",
              "      <td>0</td>\n",
              "      <td>1</td>\n",
              "    </tr>\n",
              "    <tr>\n",
              "      <th>289915</th>\n",
              "      <td>545070200</td>\n",
              "      <td>Kingdom Death: Monster 1.5</td>\n",
              "      <td>Tabletop Games</td>\n",
              "      <td>Games</td>\n",
              "      <td>USD</td>\n",
              "      <td>2017-01-08</td>\n",
              "      <td>100000.0</td>\n",
              "      <td>2016-11-25 06:01:41</td>\n",
              "      <td>12393139.69</td>\n",
              "      <td>successful</td>\n",
              "      <td>...</td>\n",
              "      <td>US</td>\n",
              "      <td>12393139.69</td>\n",
              "      <td>100000.0</td>\n",
              "      <td>123.931397</td>\n",
              "      <td>2016-11</td>\n",
              "      <td>2016</td>\n",
              "      <td>11</td>\n",
              "      <td>1</td>\n",
              "      <td>0</td>\n",
              "      <td>1</td>\n",
              "    </tr>\n",
              "    <tr>\n",
              "      <th>282416</th>\n",
              "      <td>506924864</td>\n",
              "      <td>Pebble: E-Paper Watch for iPhone and Android</td>\n",
              "      <td>Product Design</td>\n",
              "      <td>Design</td>\n",
              "      <td>USD</td>\n",
              "      <td>2012-05-19</td>\n",
              "      <td>100000.0</td>\n",
              "      <td>2012-04-11 06:59:04</td>\n",
              "      <td>10266845.74</td>\n",
              "      <td>successful</td>\n",
              "      <td>...</td>\n",
              "      <td>US</td>\n",
              "      <td>10266845.74</td>\n",
              "      <td>100000.0</td>\n",
              "      <td>102.668457</td>\n",
              "      <td>2012-04</td>\n",
              "      <td>2012</td>\n",
              "      <td>4</td>\n",
              "      <td>1</td>\n",
              "      <td>0</td>\n",
              "      <td>1</td>\n",
              "    </tr>\n",
              "    <tr>\n",
              "      <th>293861</th>\n",
              "      <td>565687737</td>\n",
              "      <td>The World's Best TRAVEL JACKET with 15 Feature...</td>\n",
              "      <td>Product Design</td>\n",
              "      <td>Design</td>\n",
              "      <td>USD</td>\n",
              "      <td>2015-09-03</td>\n",
              "      <td>20000.0</td>\n",
              "      <td>2015-07-07 13:52:34</td>\n",
              "      <td>9192055.66</td>\n",
              "      <td>successful</td>\n",
              "      <td>...</td>\n",
              "      <td>US</td>\n",
              "      <td>9192055.66</td>\n",
              "      <td>20000.0</td>\n",
              "      <td>459.602783</td>\n",
              "      <td>2015-07</td>\n",
              "      <td>2015</td>\n",
              "      <td>7</td>\n",
              "      <td>1</td>\n",
              "      <td>0</td>\n",
              "      <td>1</td>\n",
              "    </tr>\n",
              "    <tr>\n",
              "      <th>187652</th>\n",
              "      <td>1955357092</td>\n",
              "      <td>Exploding Kittens</td>\n",
              "      <td>Tabletop Games</td>\n",
              "      <td>Games</td>\n",
              "      <td>USD</td>\n",
              "      <td>2015-02-20</td>\n",
              "      <td>10000.0</td>\n",
              "      <td>2015-01-20 19:00:19</td>\n",
              "      <td>8782571.99</td>\n",
              "      <td>successful</td>\n",
              "      <td>...</td>\n",
              "      <td>US</td>\n",
              "      <td>8782571.99</td>\n",
              "      <td>10000.0</td>\n",
              "      <td>878.257199</td>\n",
              "      <td>2015-01</td>\n",
              "      <td>2015</td>\n",
              "      <td>1</td>\n",
              "      <td>1</td>\n",
              "      <td>0</td>\n",
              "      <td>1</td>\n",
              "    </tr>\n",
              "    <tr>\n",
              "      <th>6665</th>\n",
              "      <td>1033978702</td>\n",
              "      <td>OUYA: A New Kind of Video Game Console</td>\n",
              "      <td>Gaming Hardware</td>\n",
              "      <td>Games</td>\n",
              "      <td>USD</td>\n",
              "      <td>2012-08-09</td>\n",
              "      <td>950000.0</td>\n",
              "      <td>2012-07-10 14:44:41</td>\n",
              "      <td>8596474.58</td>\n",
              "      <td>successful</td>\n",
              "      <td>...</td>\n",
              "      <td>US</td>\n",
              "      <td>8596474.58</td>\n",
              "      <td>950000.0</td>\n",
              "      <td>9.048921</td>\n",
              "      <td>2012-07</td>\n",
              "      <td>2012</td>\n",
              "      <td>7</td>\n",
              "      <td>1</td>\n",
              "      <td>0</td>\n",
              "      <td>1</td>\n",
              "    </tr>\n",
              "    <tr>\n",
              "      <th>309630</th>\n",
              "      <td>647013276</td>\n",
              "      <td>THE 7th CONTINENT â What Goes Up, Must Come ...</td>\n",
              "      <td>Tabletop Games</td>\n",
              "      <td>Games</td>\n",
              "      <td>USD</td>\n",
              "      <td>2017-10-19</td>\n",
              "      <td>40000.0</td>\n",
              "      <td>2017-09-26 20:00:02</td>\n",
              "      <td>7072757.00</td>\n",
              "      <td>successful</td>\n",
              "      <td>...</td>\n",
              "      <td>US</td>\n",
              "      <td>7072757.00</td>\n",
              "      <td>40000.0</td>\n",
              "      <td>176.818925</td>\n",
              "      <td>2017-09</td>\n",
              "      <td>2017</td>\n",
              "      <td>9</td>\n",
              "      <td>1</td>\n",
              "      <td>0</td>\n",
              "      <td>1</td>\n",
              "    </tr>\n",
              "    <tr>\n",
              "      <th>271276</th>\n",
              "      <td>450099426</td>\n",
              "      <td>The Everyday Backpack, Tote, and Sling</td>\n",
              "      <td>Product Design</td>\n",
              "      <td>Design</td>\n",
              "      <td>USD</td>\n",
              "      <td>2016-09-10</td>\n",
              "      <td>500000.0</td>\n",
              "      <td>2016-07-13 00:47:35</td>\n",
              "      <td>6565782.50</td>\n",
              "      <td>successful</td>\n",
              "      <td>...</td>\n",
              "      <td>US</td>\n",
              "      <td>6565782.50</td>\n",
              "      <td>500000.0</td>\n",
              "      <td>13.131565</td>\n",
              "      <td>2016-07</td>\n",
              "      <td>2016</td>\n",
              "      <td>7</td>\n",
              "      <td>1</td>\n",
              "      <td>0</td>\n",
              "      <td>1</td>\n",
              "    </tr>\n",
              "  </tbody>\n",
              "</table>\n",
              "<p>10 rows × 21 columns</p>\n",
              "</div>"
            ],
            "text/plain": [
              "                ID                                               name  \\\n",
              "157270  1799979574   Pebble Time - Awesome Smartwatch, No Compromises   \n",
              "250254   342886736  COOLEST COOLER: 21st Century Cooler that's Act...   \n",
              "216629  2103598555             Pebble 2, Time 2 + All-New Pebble Core   \n",
              "289915   545070200                         Kingdom Death: Monster 1.5   \n",
              "282416   506924864       Pebble: E-Paper Watch for iPhone and Android   \n",
              "293861   565687737  The World's Best TRAVEL JACKET with 15 Feature...   \n",
              "187652  1955357092                                  Exploding Kittens   \n",
              "6665    1033978702             OUYA: A New Kind of Video Game Console   \n",
              "309630   647013276  THE 7th CONTINENT â What Goes Up, Must Come ...   \n",
              "271276   450099426             The Everyday Backpack, Tote, and Sling   \n",
              "\n",
              "               category main_category currency    deadline       goal  \\\n",
              "157270   Product Design        Design      USD  2015-03-28   500000.0   \n",
              "250254   Product Design        Design      USD  2014-08-30    50000.0   \n",
              "216629   Product Design        Design      USD  2016-06-30  1000000.0   \n",
              "289915   Tabletop Games         Games      USD  2017-01-08   100000.0   \n",
              "282416   Product Design        Design      USD  2012-05-19   100000.0   \n",
              "293861   Product Design        Design      USD  2015-09-03    20000.0   \n",
              "187652   Tabletop Games         Games      USD  2015-02-20    10000.0   \n",
              "6665    Gaming Hardware         Games      USD  2012-08-09   950000.0   \n",
              "309630   Tabletop Games         Games      USD  2017-10-19    40000.0   \n",
              "271276   Product Design        Design      USD  2016-09-10   500000.0   \n",
              "\n",
              "                  launched      pledged       state  ...    country  \\\n",
              "157270 2015-02-24 15:44:42  20338986.27  successful  ...         US   \n",
              "250254 2014-07-08 10:14:37  13285226.36  successful  ...         US   \n",
              "216629 2016-05-24 15:49:52  12779843.49  successful  ...         US   \n",
              "289915 2016-11-25 06:01:41  12393139.69  successful  ...         US   \n",
              "282416 2012-04-11 06:59:04  10266845.74  successful  ...         US   \n",
              "293861 2015-07-07 13:52:34   9192055.66  successful  ...         US   \n",
              "187652 2015-01-20 19:00:19   8782571.99  successful  ...         US   \n",
              "6665   2012-07-10 14:44:41   8596474.58  successful  ...         US   \n",
              "309630 2017-09-26 20:00:02   7072757.00  successful  ...         US   \n",
              "271276 2016-07-13 00:47:35   6565782.50  successful  ...         US   \n",
              "\n",
              "       usd_pledged_actual   usd_goal  usd_pledged_to_goal  launch_month_year  \\\n",
              "157270        20338986.27   500000.0            40.677973            2015-02   \n",
              "250254        13285226.36    50000.0           265.704527            2014-07   \n",
              "216629        12779843.49  1000000.0            12.779843            2016-05   \n",
              "289915        12393139.69   100000.0           123.931397            2016-11   \n",
              "282416        10266845.74   100000.0           102.668457            2012-04   \n",
              "293861         9192055.66    20000.0           459.602783            2015-07   \n",
              "187652         8782571.99    10000.0           878.257199            2015-01   \n",
              "6665           8596474.58   950000.0             9.048921            2012-07   \n",
              "309630         7072757.00    40000.0           176.818925            2017-09   \n",
              "271276         6565782.50   500000.0            13.131565            2016-07   \n",
              "\n",
              "       launch_year launch_month  success  not_success  count  \n",
              "157270        2015            2        1            0      1  \n",
              "250254        2014            7        1            0      1  \n",
              "216629        2016            5        1            0      1  \n",
              "289915        2016           11        1            0      1  \n",
              "282416        2012            4        1            0      1  \n",
              "293861        2015            7        1            0      1  \n",
              "187652        2015            1        1            0      1  \n",
              "6665          2012            7        1            0      1  \n",
              "309630        2017            9        1            0      1  \n",
              "271276        2016            7        1            0      1  \n",
              "\n",
              "[10 rows x 21 columns]"
            ]
          },
          "metadata": {
            "tags": []
          },
          "execution_count": 81
        }
      ]
    },
    {
      "metadata": {
        "colab_type": "text",
        "id": "VY4Fj52U9gga"
      },
      "cell_type": "markdown",
      "source": [
        "## Conclusion"
      ]
    },
    {
      "metadata": {
        "colab_type": "text",
        "id": "PAK4lzXVdf0h"
      },
      "cell_type": "markdown",
      "source": [
        "Kickstarter was launched at the beginning of a crowdfunding craze. It successfully grew the overall number of projects and funding since its inception until 2015. After that, the growth tapered. We suggest that this may be related to a number of external factors: \n",
        "* The launch of a number of competitor websites such as GoFundMe and Patreon. \n",
        "* Bad press around the legitimacy of Kickstarter as a platform for independent creative artists (due to a large number of high profile celebrity projects receiving funding through the platform)\n",
        "* The proliferation of social media as alternative source of patronage for creative projects \n",
        "\n",
        "While it it undeniable that the majority of projects listed on the platform fail, it is also the case the vast majority of pledged dollars are delivered to a project that launches successfully. From this analysis, we can conclude that Kickstarter remains a viable vehicle for funding in a variety of categories. While difficult to quantify, we hypothesize that project categories which can sustain a strong and dedicated fan base, like comic books or video games, are more likely to succeed on the platform. \n",
        "\n",
        "\n",
        "\n"
      ]
    }
  ]
}